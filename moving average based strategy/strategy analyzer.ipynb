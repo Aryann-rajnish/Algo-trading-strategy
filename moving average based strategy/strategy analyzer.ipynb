{
 "cells": [
  {
   "cell_type": "code",
   "execution_count": 2,
   "metadata": {},
   "outputs": [],
   "source": [
    "from pyalgotrade import strategy\n",
    "from pyalgotrade.technical import ma\n",
    "from pyalgotrade.technical import cross\n",
    "\n",
    "\n",
    "class SMACrossOver(strategy.BacktestingStrategy):\n",
    "    def __init__(self, feed, instrument, smaPeriod):\n",
    "        strategy.BacktestingStrategy.__init__(self, feed)\n",
    "        self.__instrument = instrument\n",
    "        self.__position = None\n",
    "        # We'll use adjusted close values instead of regular close values.\n",
    "        self.setUseAdjustedValues(True)\n",
    "        self.__prices = feed[instrument].getPriceDataSeries()\n",
    "        self.__sma = ma.SMA(self.__prices, smaPeriod)\n",
    "\n",
    "    def getSMA(self):\n",
    "        return self.__sma\n",
    "\n",
    "    def onEnterCanceled(self, position):\n",
    "        self.__position = None\n",
    "\n",
    "    def onExitOk(self, position):\n",
    "        self.__position = None\n",
    "\n",
    "    def onExitCanceled(self, position):\n",
    "        # If the exit was canceled, re-submit it.\n",
    "        self.__position.exitMarket()\n",
    "\n",
    "    def onBars(self, bars):\n",
    "        # If a position was not opened, check if we should enter a long position.\n",
    "        if self.__position is None:\n",
    "            if cross.cross_above(self.__prices, self.__sma) > 0:\n",
    "                shares = int(self.getBroker().getCash() * 0.9 / bars[self.__instrument].getPrice())\n",
    "                # Enter a buy market order. The order is good till canceled.\n",
    "                self.__position = self.enterLong(self.__instrument, shares, True)\n",
    "        # Check if we have to exit the position.\n",
    "        elif not self.__position.exitActive() and cross.cross_below(self.__prices, self.__sma) > 0:\n",
    "            self.__position.exitMarket()"
   ]
  },
  {
   "cell_type": "code",
   "execution_count": 3,
   "metadata": {},
   "outputs": [],
   "source": [
    "from pyalgotrade.barfeed import yahoofeed\n",
    "from pyalgotrade.stratanalyzer import returns\n",
    "from pyalgotrade.stratanalyzer import sharpe\n",
    "from pyalgotrade.stratanalyzer import drawdown\n",
    "from pyalgotrade.stratanalyzer import trades"
   ]
  },
  {
   "cell_type": "code",
   "execution_count": 4,
   "metadata": {},
   "outputs": [],
   "source": [
    "# Load the yahoo feed from the CSV file\n",
    "feed = yahoofeed.Feed()\n",
    "feed.addBarsFromCSV(\"orcl\", \"DBC-2007-yahoofinance.csv\")\n",
    "\n",
    "# Evaluate the strategy with the feed's bars.\n",
    "myStrategy =SMACrossOver(feed, \"orcl\", 20)"
   ]
  },
  {
   "cell_type": "code",
   "execution_count": 5,
   "metadata": {},
   "outputs": [],
   "source": [
    "retAnalyzer = returns.Returns()\n",
    "myStrategy.attachAnalyzer(retAnalyzer)\n",
    "sharpeRatioAnalyzer = sharpe.SharpeRatio()\n",
    "myStrategy.attachAnalyzer(sharpeRatioAnalyzer)\n",
    "drawDownAnalyzer = drawdown.DrawDown()\n",
    "myStrategy.attachAnalyzer(drawDownAnalyzer)\n",
    "tradesAnalyzer = trades.Trades()\n",
    "myStrategy.attachAnalyzer(tradesAnalyzer)"
   ]
  },
  {
   "cell_type": "code",
   "execution_count": null,
   "metadata": {},
   "outputs": [],
   "source": []
  },
  {
   "cell_type": "code",
   "execution_count": null,
   "metadata": {},
   "outputs": [],
   "source": []
  },
  {
   "cell_type": "code",
   "execution_count": 6,
   "metadata": {},
   "outputs": [],
   "source": [
    "myStrategy.run()"
   ]
  },
  {
   "cell_type": "code",
   "execution_count": 7,
   "metadata": {},
   "outputs": [
    {
     "name": "stdout",
     "output_type": "stream",
     "text": [
      "Final portfolio value: 1101807.04\n",
      "Cumulative returns: 10.18 %\n",
      "Sharpe ratio: 0.46\n",
      "Max. drawdown: 7.92 %\n",
      "Longest drawdown duration: 181 days, 0:00:00\n",
      "Total trades: 19\n",
      "Avg. profit: 4305\n",
      "Profits std. dev.: 19844\n",
      "Max. profit: 79274\n",
      "Min. profit: -9694\n",
      "Avg. return:  0 %\n",
      "Returns std. dev.:  2 %\n",
      "Max. return:  9 %\n",
      "Min. return: -1 %\n",
      "Profitable trades: 7\n",
      "Avg. profit: 21074\n",
      "Profits std. dev.: $24557\n",
      "Max. profit: 79274\n",
      "Min. profit: 1926\n",
      "Avg. return:  2 %\n",
      "Returns std. dev.:  3 %\n",
      "Max. return:  9 %\n",
      "Min. return:  0 %\n",
      "Unprofitable trades: 12\n",
      "Avg. loss: -5477\n",
      "Losses std. dev.: 3464\n",
      "Max. loss: -9694\n",
      "Min. loss: -283\n",
      "Avg. return: -1 %\n",
      "Returns std. dev.:  0 %\n",
      "Max. return: -0 %\n",
      "Min. return: -1 %\n"
     ]
    }
   ],
   "source": [
    "# Run the strategy.\n",
    "\n",
    "\n",
    "print(\"Final portfolio value: %.2f\" % myStrategy.getResult())\n",
    "print(\"Cumulative returns: %.2f %%\" % (retAnalyzer.getCumulativeReturns()[-1] * 100))\n",
    "print(\"Sharpe ratio: %.2f\" % (sharpeRatioAnalyzer.getSharpeRatio(0.05)))\n",
    "print(\"Max. drawdown: %.2f %%\" % (drawDownAnalyzer.getMaxDrawDown() * 100))\n",
    "print(\"Longest drawdown duration: %s\" % (drawDownAnalyzer.getLongestDrawDownDuration()))\n",
    "print\n",
    "print(\"Total trades: %d\" % (tradesAnalyzer.getCount()))\n",
    "if tradesAnalyzer.getCount() > 0:\n",
    "    profits = tradesAnalyzer.getAll()\n",
    "    print(\"Avg. profit: %2.f\" % (profits.mean()))\n",
    "    print(\"Profits std. dev.: %2.f\" % (profits.std()))\n",
    "    print(\"Max. profit: %2.f\" % (profits.max()))\n",
    "    print(\"Min. profit: %2.f\" % (profits.min()))\n",
    "    returns = tradesAnalyzer.getAllReturns()\n",
    "    print(\"Avg. return: %2.f %%\" % (returns.mean() * 100))\n",
    "    print(\"Returns std. dev.: %2.f %%\" % (returns.std() * 100))\n",
    "    print(\"Max. return: %2.f %%\" % (returns.max() * 100))\n",
    "    print(\"Min. return: %2.f %%\" % (returns.min() * 100))\n",
    "\n",
    "print\n",
    "print(\"Profitable trades: %d\" % (tradesAnalyzer.getProfitableCount()))\n",
    "if tradesAnalyzer.getProfitableCount() > 0:\n",
    "    profits = tradesAnalyzer.getProfits()\n",
    "    print(\"Avg. profit: %2.f\" % (profits.mean()))\n",
    "    print(\"Profits std. dev.: $%2.f\" % (profits.std()))\n",
    "    print(\"Max. profit: %2.f\" % (profits.max()))\n",
    "    print(\"Min. profit: %2.f\" % (profits.min()))\n",
    "    returns = tradesAnalyzer.getPositiveReturns()\n",
    "    print(\"Avg. return: %2.f %%\" % (returns.mean() * 100))\n",
    "    print(\"Returns std. dev.: %2.f %%\" % (returns.std() * 100))\n",
    "    print(\"Max. return: %2.f %%\" % (returns.max() * 100))\n",
    "    print(\"Min. return: %2.f %%\" % (returns.min() * 100))\n",
    "\n",
    "print\n",
    "print(\"Unprofitable trades: %d\" % (tradesAnalyzer.getUnprofitableCount()))\n",
    "if tradesAnalyzer.getUnprofitableCount() > 0:\n",
    "    losses = tradesAnalyzer.getLosses()\n",
    "    print(\"Avg. loss: %2.f\" % (losses.mean()))\n",
    "    print(\"Losses std. dev.: %2.f\" % (losses.std()))\n",
    "    print(\"Max. loss: %2.f\" % (losses.min()))\n",
    "    print(\"Min. loss: %2.f\" % (losses.max()))\n",
    "    returns = tradesAnalyzer.getNegativeReturns()\n",
    "    print(\"Avg. return: %2.f %%\" % (returns.mean() * 100))\n",
    "    print(\"Returns std. dev.: %2.f %%\" % (returns.std() * 100))\n",
    "    print(\"Max. return: %2.f %%\" % (returns.max() * 100))\n",
    "    print(\"Min. return: %2.f %%\" % (returns.min() * 100))"
   ]
  },
  {
   "cell_type": "code",
   "execution_count": null,
   "metadata": {},
   "outputs": [],
   "source": []
  }
 ],
 "metadata": {
  "kernelspec": {
   "display_name": "Python 3",
   "language": "python",
   "name": "python3"
  },
  "language_info": {
   "codemirror_mode": {
    "name": "ipython",
    "version": 3
   },
   "file_extension": ".py",
   "mimetype": "text/x-python",
   "name": "python",
   "nbconvert_exporter": "python",
   "pygments_lexer": "ipython3",
   "version": "3.6.7"
  }
 },
 "nbformat": 4,
 "nbformat_minor": 2
}
