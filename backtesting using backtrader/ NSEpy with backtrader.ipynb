{
 "cells": [
  {
   "cell_type": "code",
   "execution_count": 21,
   "metadata": {},
   "outputs": [],
   "source": [
    "from nsepy import get_history,get_index_pe_history\n",
    "nifty = get_history('NIFTY', date(2000, 1, 1), date(2017, 10, 31), index=True)\n",
    "pe = get_index_pe_history('NIFTY', date(2000, 1, 1), date(2017, 10, 31))\n",
    "nifty['PE'] = pe['P/E']\n",
    "nifty.to_csv('nifty17years_withPE.csv')"
   ]
  },
  {
   "cell_type": "code",
   "execution_count": 22,
   "metadata": {},
   "outputs": [
    {
     "name": "stdout",
     "output_type": "stream",
     "text": [
      "Read from disk successful\n"
     ]
    }
   ],
   "source": [
    "from datetime import date\n",
    "import pandas as pd\n",
    "try:\n",
    "    nifty = pd.read_csv('nifty17years_withPE.csv')\n",
    "    print('Read from disk successful')\n",
    "except:\n",
    "    print('Downloading from NSE')\n",
    "    nifty = get_history('NIFTY', date(2000, 1, 1), date(2017, 10, 31), index=True)\n",
    "    pe = get_index_pe_history('NIFTY', date(2000, 1, 1), date(2017, 10, 31))\n",
    "    nifty['PE'] = pe['P/E']\n",
    "    nifty.to_csv('nifty17years_withPE.csv')"
   ]
  },
  {
   "cell_type": "code",
   "execution_count": 23,
   "metadata": {},
   "outputs": [],
   "source": [
    "from backtrader.feeds import GenericCSVData\n",
    "\n",
    "\"\"\"\n",
    "    By default downloaded data only has datetime, Open, High, Low, Close, Volume and Turnover.\n",
    "    As we are adding one more parameter \"PE\", we can no longer use GenericCSVData reader provided by \n",
    "    backtrader library without modification to base class.\n",
    "\"\"\"\n",
    "# Define the new parameter\n",
    "class GenericCSV_PE(GenericCSVData):\n",
    "    # Add a 'pe' line to the inherited ones from the base class\n",
    "    lines = ('pe',)\n",
    "    \n",
    "    # add the parameter to the parameters inherited from the base class\n",
    "    params = (('pe', 8),)\n",
    "\n",
    "\n",
    "# Declare position of each column in csv file\n",
    "data = GenericCSV_PE(dataname='nifty17years_withPE.csv',\n",
    "                     dtformat=('%Y-%m-%d'),\n",
    "                     datetime=0,\n",
    "                     high=1,\n",
    "                     low=2,\n",
    "                     open=3,\n",
    "                     close=4,\n",
    "                     volume=5,\n",
    "                     pe=7,\n",
    "                     openinterest=-1,\n",
    "                     #fromdate=date(2017,1,1),\n",
    "                     #todate=date(2017,1,10)\n",
    "                    )"
   ]
  },
  {
   "cell_type": "code",
   "execution_count": 24,
   "metadata": {},
   "outputs": [],
   "source": [
    "import backtrader as bt\n",
    "\n",
    "\n",
    "class PEInvesting(bt.SignalStrategy):\n",
    "    def log(self, txt, dt=None):\n",
    "        pass\n",
    "\n",
    "    def __init__(self):\n",
    "        # Keep a reference to the \"close\" line in the data[0] dataseries\n",
    "        self.dataclose = self.datas[0].close\n",
    "        self.pe = self.datas[0].pe\n",
    "        \n",
    "\n",
    "    def next(self):\n",
    "        curdate = self.datetime.date(ago=0) \n",
    "            \n",
    "        if self.pe[0] < 21:\n",
    "            self.log(self.dataclose[0])\n",
    "            # Use 100% of the cash to buy nifty\n",
    "            self.order_target_percent(target=1.0)\n",
    "            \n",
    "       \n",
    "        if self.pe[0] > 24:\n",
    "            self.log(self.dataclose[0])\n",
    "            # Sell everything\n",
    "            self.order_target_percent(target=0)"
   ]
  },
  {
   "cell_type": "code",
   "execution_count": 25,
   "metadata": {},
   "outputs": [
    {
     "name": "stdout",
     "output_type": "stream",
     "text": [
      "Final Portfolio Value: 10450659.40\n",
      "Final value is 10.45 times the initial investment\n"
     ]
    },
    {
     "data": {
      "text/plain": [
       "[[<Figure size 640x480 with 4 Axes>]]"
      ]
     },
     "execution_count": 25,
     "metadata": {},
     "output_type": "execute_result"
    }
   ],
   "source": [
    "cerebro = bt.Cerebro()\n",
    "\n",
    "# Set our desired cash start\n",
    "cerebro.broker.setcash(1000000.0)\n",
    "cerebro.adddata(data)\n",
    "\n",
    "cerebro.addstrategy(PEInvesting)\n",
    "cerebro.run()\n",
    "print('Final Portfolio Value: %.2f' % cerebro.broker.getvalue())\n",
    "print('Final value is %.2f times the initial investment'%(cerebro.broker.getvalue()/1000000.0))\n",
    "cerebro.plot()"
   ]
  },
  {
   "cell_type": "code",
   "execution_count": null,
   "metadata": {},
   "outputs": [],
   "source": []
  }
 ],
 "metadata": {
  "kernelspec": {
   "display_name": "Python 3",
   "language": "python",
   "name": "python3"
  },
  "language_info": {
   "codemirror_mode": {
    "name": "ipython",
    "version": 3
   },
   "file_extension": ".py",
   "mimetype": "text/x-python",
   "name": "python",
   "nbconvert_exporter": "python",
   "pygments_lexer": "ipython3",
   "version": "3.6.7"
  }
 },
 "nbformat": 4,
 "nbformat_minor": 2
}
