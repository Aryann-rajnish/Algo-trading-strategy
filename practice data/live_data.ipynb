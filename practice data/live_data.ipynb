{
 "cells": [
  {
   "cell_type": "code",
   "execution_count": 2,
   "metadata": {},
   "outputs": [],
   "source": [
    "import requests\n",
    "import os\n",
    "import pandas as pd"
   ]
  },
  {
   "cell_type": "code",
   "execution_count": 3,
   "metadata": {},
   "outputs": [],
   "source": [
    "from io import StringIO"
   ]
  },
  {
   "cell_type": "code",
   "execution_count": 4,
   "metadata": {},
   "outputs": [],
   "source": [
    "from multiprocessing import pool"
   ]
  },
  {
   "cell_type": "code",
   "execution_count": 5,
   "metadata": {},
   "outputs": [],
   "source": [
    "interval = 61 # 1 min snapshots"
   ]
  },
  {
   "cell_type": "code",
   "execution_count": 6,
   "metadata": {},
   "outputs": [],
   "source": [
    "stocks = ['TATAMOTORS','UNIONBANK','SBIN','ZEEL']"
   ]
  },
  {
   "cell_type": "code",
   "execution_count": 7,
   "metadata": {},
   "outputs": [],
   "source": [
    "for stock in stocks:\n",
    "    if not os.path.isfile(stock+\".csv\"):\n",
    "        file = open(stock+\".csv\",'w')\n",
    "        file.write(\"Date,Time,Open,High,Low,Close,Volume\\n\")\n",
    "        file.close()"
   ]
  },
  {
   "cell_type": "code",
   "execution_count": null,
   "metadata": {},
   "outputs": [],
   "source": [
    "def puller(stock,num_days,interval,write_to_file = True):\n",
    "    num_days = str(num_days)\n",
    "    interval = str(interval)\n",
    "    \n",
    "    p = requests.get('http://finance.google.com/finance/getprices?q='+stock+'&x=NSE&i='+interval+'&p='+no_of_days+'d&f=d,c,h,l,o,v').text"
   ]
  },
  {
   "cell_type": "code",
   "execution_count": null,
   "metadata": {},
   "outputs": [],
   "source": [
    "http://finance.google.com/finance/getprices?q="
   ]
  },
  {
   "cell_type": "code",
   "execution_count": null,
   "metadata": {},
   "outputs": [],
   "source": []
  },
  {
   "cell_type": "code",
   "execution_count": null,
   "metadata": {},
   "outputs": [],
   "source": []
  },
  {
   "cell_type": "code",
   "execution_count": null,
   "metadata": {},
   "outputs": [],
   "source": []
  },
  {
   "cell_type": "code",
   "execution_count": 8,
   "metadata": {},
   "outputs": [],
   "source": [
    "import urllib"
   ]
  },
  {
   "cell_type": "code",
   "execution_count": 9,
   "metadata": {},
   "outputs": [],
   "source": [
    "import bs4"
   ]
  },
  {
   "cell_type": "code",
   "execution_count": null,
   "metadata": {},
   "outputs": [],
   "source": [
    "def get_stock_price(name):\n",
    "    url = \"https://www,google.com/finance\"\n",
    "    req = urllib.request.Request(url)"
   ]
  },
  {
   "cell_type": "code",
   "execution_count": null,
   "metadata": {},
   "outputs": [],
   "source": []
  },
  {
   "cell_type": "code",
   "execution_count": null,
   "metadata": {},
   "outputs": [],
   "source": []
  },
  {
   "cell_type": "code",
   "execution_count": null,
   "metadata": {},
   "outputs": [],
   "source": []
  },
  {
   "cell_type": "code",
   "execution_count": null,
   "metadata": {},
   "outputs": [],
   "source": []
  },
  {
   "cell_type": "code",
   "execution_count": 10,
   "metadata": {},
   "outputs": [
    {
     "name": "stdout",
     "output_type": "stream",
     "text": [
      "\n",
      "\n",
      "<!DOCTYPE html>\n",
      "<html\n",
      "    xmlns:og=\"http://ogp.me/ns#\"\n",
      "    xmlns:fb=\"http://www.facebook.com/2008/fbml\">\n",
      "    <head>\n",
      "         \n",
      "        <meta charset=\"utf-8\">\n",
      "        <meta http-equiv=\"X-UA-Compatible\" content=\"IE=edge\">\n",
      "\n",
      "    <meta name=\"apple-itunes-app\" content=\"app-id=342792525, app-argument=imdb:///?src=mdot\">\n",
      "\n",
      "\n",
      "\n",
      "        <script type=\"text/javascript\">var IMDbTimer={starttime: new Date().getTime(),pt:'java'};</script>\n",
      "\n",
      "<script>\n",
      "    if (typeof uet == 'function') {\n",
      "      uet(\"bb\", \"LoadTitle\",\n"
     ]
    }
   ],
   "source": [
    "from requests import get\n",
    "url = 'http://www.imdb.com/search/title?release_date=2017&sort=num_votes,desc&page=1'\n",
    "response = get(url)\n",
    "print(response.text[:500])"
   ]
  },
  {
   "cell_type": "code",
   "execution_count": null,
   "metadata": {},
   "outputs": [],
   "source": []
  },
  {
   "cell_type": "code",
   "execution_count": 14,
   "metadata": {},
   "outputs": [],
   "source": [
    "import urllib\n",
    "html "
   ]
  },
  {
   "cell_type": "code",
   "execution_count": 16,
   "metadata": {},
   "outputs": [],
   "source": [
    "from requests import get\n"
   ]
  },
  {
   "cell_type": "code",
   "execution_count": 18,
   "metadata": {},
   "outputs": [
    {
     "name": "stdout",
     "output_type": "stream",
     "text": [
      "<!doctype html><html itemscope=\"\" itemtype=\"http://schema.org/SearchResultsPage\" lang=\"en-IN\"><head><meta content=\"text/html; charset=UTF-8\" http-equiv=\"Content-Type\"><meta content=\"/images/branding/googleg/1x/googleg_standard_color_128dp.png\" itemprop=\"image\"><noscript><meta content=\"0;url=/search?q=NIFTY&amp;ie=UTF-8&amp;gbv=1&amp;sei=EAvdXMmCJ9umwgPxtJuIAw\" http-equiv=\"refresh\"><style>table,div,span,p{display:none}</style><div style=\"display:block\">Please click <a href=\"/search?q=NIFTY&amp;ie=UTF-8&amp;gbv=1&amp;sei=EAvdXMmCJ9umwgPxtJuIAw\">here</a> if you are not redirected within a few seconds.</div></noscript><title>NIFTY - Google Search</title><style>#gbar,#guser{font-size:13px;padding-top:1px !important;}#gbar{height:22px}#guser{padding-bottom:7px !important;text-align:right}.gbh,.gbd{border-top:1px solid #c9d7f1;font-size:1px}.gbh{height:0;position:absolute;top:24px;width:100%}@media all{.gb1{height:22px;margin-right:.5em;vertical-align:top}#gbar{float:left}}a.gb1,a.gb4{text-decoration:underline !important}a.gb1,a.gb4{color:#00c !important}.gbi .gb4{color:#dd8e27 !important}.gbf .gb4{color:#900 !important}\n",
      "</style><style>.star{float:left;margin-top:1px;overflow:hidden}.ybhkme{font-size:11px}.j{width:34em}body,td,div,a{font-family:arial,sans-serif;tap-highlight-color:rgba(255,255,255,0)}body{margin:0}a img{border:0}#gbar{float:left;height:22px;padding-left:2px;font-size:13px}.gsfi,.gsfs{font-size:17px}.w,.q:active,.q:visited,.tbotu{color:#11c}a.gl{text-decoration:none}#foot{padding:0 8px}#foot a{white-space:nowrap}h3{font-size:16px;font-weight:normal;margin:0;padding:0}#res h3{display:inline}.hd{height:1px;position:absolute;top:-1000em}.g,body,html,table,.std{font-size:13px}.g{margin-bottom:23px;margin-top:0;zoom:1}ol li,ul li{list-style:none}h1,ol,ul,li{margin:0;padding:0}.e{margin:2px 0 0.75em}#leftnav a{text-decoration:none}#leftnav h2{color:#767676;font-weight:normal;margin:0}#nav{border-collapse:collapse;margin-top:17px;text-align:left}#nav td{text-align:center}.nobr{white-space:nowrap}.ts{border-collapse:collapse}.s br{display:none}.csb{display:block;height:40px}.images_table td{line-height:17px;padding-bottom:16px}.images_table img{border:1px solid #ccc;padding:1px}#tbd,#abd{display:block;min-height:1px}#abd{padding-top:3px}#tbd li{display:inline}.TIrJXe,.UU5df{margin-bottom:8px}#tbd .tbt li{display:block;font-size:13px;line-height:1.2;padding-bottom:3px;padding-left:8px;text-indent:-8px}.tbos,.b{font-weight:bold}em{font-weight:bold;font-style:normal}.mime{color:#1a0dab;font-weight:bold;font-size:x-small}.soc a{text-decoration:none}.soc{color:#808080}.ul7Gbc{color:#e7711b}#Db7kif{border:1px solid #e0e0e0;margin-left:-8px;margin-right:-8px;padding:15px 20px 5px}.mrH1y{font-size:32px}.PZ6wOb{color:#777;font-size:16px;margin-top:5px}.gwrItc{color:#777;font-size:14px;margin-top:5px}.SVob4e{border:1px solid #e0e0e0;padding-left:20px}.mYu5Hb{border:1px solid #e0e0e0;padding:5px 20px}#vob{border:1px solid #e0e0e0;padding:15px 15px}#ZjIC2e{font-size:22px;line-height:22px;padding-bottom:5px}#vob_st{line-height:1.24}.DfLGHd{border-width:1px;border-style:solid;border-color:#eee;background-color:#fff;position:relative;margin-bottom:26px}.uRIxYb,.NjTIc,.PftIHd,.DXoZmb{font-family:Arial;font-weight:lighter}.uRIxYb{margin-bottom:5px}.uRIxYb{font-size:xx-large}.NjTIc{font-size:medium}.PftIHd{font-size:large}.DXoZmb{font-size:small}.DfLGHd{margin-left:-8px;margin-right:-15px;padding:20px 20px 24px}.ernfsc{border-spacing:0px 2px}.D3VFNd{max-width:380px;text-overflow:ellipsis;white-space:nowrap;overflow:hidden;padding-left:0px}.c1Ujmc{padding-left:15px;white-space:nowrap;color:#666}.EjZtie{padding-left:0px}.SFt5jb{color:#212121}.Pt7r9e{color:#878787}.bkcGhd{color:#093}.fIP9ce{color:#c00}.LDBB9d{padding:1px}.gssb_a{padding:0 10px !important}.gssb_c{left:132px !important;right:295px !important;top:78px !important;width:572px !important}.gssb_c table{font-size:16px !important}.gssb_e{border:1px solid #ccc !important;border-top-color:#d9d9d9 !important}.gssb_i{background:#eee !important}#res{padding:0 8px}#rhs_block{padding-top:43px}#MCN7mf{padding:0 8px}#subform_ctrl{font-size:11px;height:17px;margin:5px 3px 0 17px}.taf{padding-bottom:3px}.WIkLp{padding:20px 0 3px}.FuZzl{padding:20px 0 3px}#topstuff .e{padding-bottom:6px}.slk .sld{width:250px}.slk{margin-bottom:-3px}.slk .zaHRAf{padding-bottom:5px;width:250px}.ac,.st{line-height:1.24}.a1DBFd,#ofr{font-size:16px;margin:1em 0;padding:0 8px}.tZz6cc{padding-bottom:25px}.s{color:#545454}.ac{color:#545454}a.fl,.A8ul6 a,.osl a{color:#1a0dab;text-decoration:none}a:link{color:#1a0dab;cursor:pointer}#tads a:link{color:#1a0dab}#tads .soc a:link{color:#808080}a:visited{color:#61C}.blg a{text-decoration:none}cite,cite a:link{color:#006621;font-style:normal}#tads cite{color:#006621}.hJND5c{font-size:15px}.kvs{margin-top:1px}.hJND5c,.kvs,.slp{display:block;margin-bottom:1px}.kt{border-spacing:2px 0;margin-top:1px}.f{color:#808080}.L4Zeue{color:#093}h4.r{display:inline;font-size:small;font-weight:normal}.g{line-height:1.2}.NpC9Hd{display:inline-block;vertical-align:top;overflow:hidden;position:relative}.COi8F{margin:0 0 2em 1.3em}.COi8F li{list-style-type:disc}.osl{color:#777;margin-top:4px}.r{font-size:16px;margin:0}.gL9Hy{font-size:16px}.spell_orig{font-size:13px}.spell_orig a{text-decoration:none}.spell_orig b i{font-style:normal;font-weight:normal}.th{border:1px solid #ebebeb}.ts td{padding:0}.videobox{padding-bottom:3px}.slk a{text-decoration:none}#leftnav a:hover,#leftnav .tbou a:hover,.slk h3 a,a:hover{text-decoration:underline}#mn{table-layout:fixed;width:100%}#leftnav a{color:#222;font-size:13px}#leftnav{padding:43px 4px 4px 0}.tbos{color:#dd4b39}.tbt{margin-bottom:28px}#tbd{padding:0 0 0 16px}.tbou a{color:#222}#center_col{border:0;padding:0 8px 0 0}#topstuff .e{padding-top:3px}#topstuff .p64x9c{padding-top:6px}#ab_name{color:#dd4b39;font:20px \"Arial\";margin-left:15px}#resultStats{color:#999;font-size:13px;overflow:hidden;white-space:nowrap}.mslg>td{padding-right:1px;padding-top:2px}.slk .sld{margin-top:2px;padding:5px 0 5px 5px}.fmp{padding-top:3px}.close_btn{overflow:hidden}#fll a,#bfl a{color:#1a0dab !important;margin:0 12px;text-decoration:none !important}.ng{color:#dd4b39}#mss{margin:.33em 0 0;padding:0;display:table}.NYKCib{display:inline-block;float:left;white-space:nowrap;padding-right:16px}#mss p{margin:0;padding-top:5px}.tn{border-bottom:1px solid #ebebeb;display:block;float:left;height:59px;line-height:54px;min-width:980px;padding:0;position:relative;white-space:nowrap}.qrSWbe,a.qrSWbe{color:#777;cursor:pointer;display:inline-block;font-family:arial,sans-serif;font-size:small;height:54px;line-height:54px;margin:0 8px;padding:0 8px;text-decoration:none;white-space:nowrap}.tnuiC{border-bottom:3px solid #dd4b39;color:#dd4b39;font-weight:bold;margin:2px 8px 0}a.KDZjCd:hover{color:black;text-decoration:none;white-space:nowrap}body{margin:0;padding:0}.sFTC8c{display:inline-block;float:left;margin-top:2px}.pqkqJe,a.pqkqJe{margin-left:1px}.sd{line-height:43px;padding:0 8px 0 9px}a:active,.osl a:active,.tbou a:active,#leftnav a:active{color:#dd4b39}#bfl a:active{color:#dd4b39 !important}.csb{background:url(/images/nav_logo229.png) no-repeat;overflow:hidden}.close_btn{background:url(/images/nav_logo229.png) no-repeat -138px -84px;height:14px;width:14px;display:block}.star{background:url(/images/nav_logo229.png) no-repeat -94px -245px;height:13px;width:65px;display:block}.star div,.star span{background:url(/images/nav_logo229.png) no-repeat 0 -245px;height:13px;width:65px;display:block}.Pj9hGd{display:inline;margin:0 3px;outline-color:transparent;overflow:hidden;position:relative}.Pj9hGd>div{outline-color:transparent}.CiacGf{border-color:transparent;border-style:solid dashed dashed;border-top-color:green;border-width:4px 4px 0 4px;cursor:pointer;display:inline-block;font-size:0;height:0;left:4px;line-height:0;outline-color:transparent;position:relative;top:-3px;width:0}.CiacGf{margin-top:-4px}.am-dropdown-menu{display:block;background:#fff;border:1px solid #dcdcdc;font-size:13px;left:0;padding:0;position:absolute;right:auto;white-space:nowrap;z-index:3}.mUpfKd{list-style:none;white-space:nowrap}.mUpfKd:hover{background-color:#eee}a.imx0m{color:#333;cursor:pointer;display:block;padding:7px 18px;text-decoration:none}#tads a.imx0m{color:#333}.sfbgg{background:#f1f1f1;border-bottom:1px solid #e5e5e5;height:71px}#logocont{z-index:1;padding-left:4px;padding-top:4px}#logo{display:block;height:49px;margin-top:12px;margin-left:12px;overflow:hidden;position:relative;width:137px}#logo img{left:0;position:absolute;top:-41px}.lst-a{background:white;border:1px solid #d9d9d9;border-top-color:silver;width:570px}.lst-a:hover{border:1px solid #b9b9b9;border-top:1px solid #a0a0a0;box-shadow:inset 0 1px 2px rgba(0,0,0,0.1);-webkit-box-shadow:inset 0 1px 2px rgba(0,0,0,0.1);-moz-box-shadow:inset 0 1px 2px rgba(0,0,0,0.1)}.lst-td{border:none;padding:0}.tia input{border-right:none;padding-right:0}.tia{padding-right:0}.lst{background:none;border:none;color:#000;font:16px arial,sans-serif;float:left;height:22px;margin:0;padding:3px 6px 2px 9px;vertical-align:top;width:100%;word-break:break-all}.lst:focus{outline:none}.lst-b{background:none;border:none;height:26px;padding:0 6px 0 12px}.ds{border-right:1px solid #e7e7e7;position:relative;height:29px;margin-left:17px;z-index:100}.lsbb{background-image:-moz-linear-gradient(top,#4d90fe,#4787ed);background-image:-ms-linear-gradient(top,#4d90fe,#4787ed);background-image:-o-linear-gradient(top,#4d90fe,#4787ed);background-image:-webkit-gradient(linear,left top,left bottom,from(#4d90fe),to(#4787ed));background-image:-webkit-linear-gradient(top,#4d90fe,#4787ed);background-image:linear-gradient(top,#4d90fe,#4787ed);border:1px solid #3079ed;border-radius:2px;background-color:#4d90fe;height:27px;width:68px}.lsbb:hover{background-image:-moz-linear-gradient(top,#4d90fe,#357ae8);background-image:-ms-linear-gradient(top,#4d90fe,#357ae8);background-image:-o-linear-gradient(top,#4d90fe,#357ae8);background-image:-webkit-gradient(linear,left top,left bottom,from(#4d90fe),to(#357ae8));background-image:-webkit-linear-gradient(top,#4d90fe,#357ae8);background-color:#357ae8;background-image:linear-gradient(top,#4d90fe,#357ae8);border:1px solid #2f5bb7}.lsb{background:transparent;background-position:0 -343px;background-repeat:repeat-x;border:none;color:#000;cursor:default;font:15px arial,sans-serif;height:29px;margin:0;vertical-align:top;width:100%}.lsb:active{-moz-box-shadow:inset 0 1px 2px rgba(0,0,0,0.3);-webkit-box-shadow:inset 0 1px 2px rgba(0,0,0,0.3);box-shadow:inset 0 1px 2px rgba(0,0,0,0.3);background:transparent;color:transparent;overflow:hidden;position:relative;width:100%}.sbico{color:transparent;display:inline-block;height:15px;margin:0 auto;margin-top:2px;width:15px;overflow:hidden}</style><script nonce=\"/QI2bLfy1mk8rvObhADY7w==\">(function(){window.google={kEI:'EAvdXMmCJ9umwgPxtJuIAw',kEXPI:'0,1353747,57,1958,2422,698,527,730,224,528,228,819,1257,1895,56,322,206,241,776,166,440,100,29,158,111,39,2332592,329489,1294,12383,4855,32692,15247,867,6056,6107,6381,3335,2,2,4604,2197,369,3314,5505,224,2218,260,5109,573,835,284,2,579,727,2432,58,2,2,2,1297,4323,3698,1270,773,2255,972,430,2487,850,1146,5,2,2,1743,218,2245,352,2287,1314,669,1050,1808,1397,81,7,3,488,620,29,1395,3610,2152,1,1479,1667,1288,2,4007,796,1220,38,919,755,119,280,937,93,1243,28,1611,2736,1558,1503,2,215,1,419,1133,1,1236,29,159,2,4,2,670,44,4152,506,124,2368,240,12,620,803,336,1089,656,338,689,876,349,67,142,724,325,198,404,373,1,2,366,1017,300,80,625,756,98,398,23,400,992,1107,10,168,8,109,187,831,235,810,450,174,219,494,3,169,82,48,553,11,15,9,574,83,1004,837,76,526,372,9,26,176,323,7,789,371,91,66,231,243,274,25,324,193,531,71,192,109,272,25,227,45,12,22,16,109,32,15,2,445,216,910,160,497,71,24,619,19,131,190,819,259,725,459,4,3,7,7,3,1144,7,4,337,554,606,638,140,191,346,188,252,75,556,208,533,4,570,257,111,5,5,265,334,3,308,143,246,18,233,163,91,383,248,5935401,2886,35,28,5997518,10,32,25116563',authuser:0,kscs:'c9c918f0_EAvdXMmCJ9umwgPxtJuIAw',kGL:'IN'};google.sn='web';google.kHL='en-IN';})();(function(){google.lc=[];google.li=0;google.getEI=function(a){for(var b;a&&(!a.getAttribute||!(b=a.getAttribute(\"eid\")));)a=a.parentNode;return b||google.kEI};google.getLEI=function(a){for(var b=null;a&&(!a.getAttribute||!(b=a.getAttribute(\"leid\")));)a=a.parentNode;return b};google.https=function(){return\"https:\"==window.location.protocol};google.ml=function(){return null};google.time=function(){return(new Date).getTime()};google.log=function(a,b,e,c,g){if(a=google.logUrl(a,b,e,c,g)){b=new Image;var d=google.lc,f=google.li;d[f]=b;b.onerror=b.onload=b.onabort=function(){delete d[f]};google.vel&&google.vel.lu&&google.vel.lu(a);b.src=a;google.li=f+1}};google.logUrl=function(a,b,e,c,g){var d=\"\",f=google.ls||\"\";e||-1!=b.search(\"&ei=\")||(d=\"&ei=\"+google.getEI(c),-1==b.search(\"&lei=\")&&(c=google.getLEI(c))&&(d+=\"&lei=\"+c));c=\"\";!e&&google.cshid&&-1==b.search(\"&cshid=\")&&\"slh\"!=a&&(c=\"&cshid=\"+google.cshid);a=e||\"/\"+(g||\"gen_204\")+\"?atyp=i&ct=\"+a+\"&cad=\"+b+d+f+\"&zx=\"+google.time()+c;/^http:/i.test(a)&&google.https()&&(google.ml(Error(\"a\"),!1,{src:a,glmm:1}),a=\"\");return a};}).call(this);(function(){google.y={};google.x=function(a,b){if(a)var c=a.id;else{do c=Math.random();while(google.y[c])}google.y[c]=[a,b];return!1};google.lm=[];google.plm=function(a){google.lm.push.apply(google.lm,a)};google.lq=[];google.load=function(a,b,c){google.lq.push([[a],b,c])};google.loadAll=function(a,b){google.lq.push([a,b])};}).call(this);google.f={};(function(){var b=[function(){google.tick&&google.tick(\"load\",\"dcl\")}];google.dclc=function(a){b.length?b.push(a):a()};function c(){for(var a;a=b.shift();)a()}window.addEventListener?(document.addEventListener(\"DOMContentLoaded\",c,!1),window.addEventListener(\"load\",c,!1)):window.attachEvent&&window.attachEvent(\"onload\",c);}).call(this);</script><script type=\"text/javascript\" nonce=\"/QI2bLfy1mk8rvObhADY7w==\"></script><script nonce=\"/QI2bLfy1mk8rvObhADY7w==\">(function(){google.sham=function(c){for(var d=c.parentElement,a=null,b=0;b<d.childNodes.length;b++){var e=d.childNodes[b];-1<(\" \"+e.className+\" \").indexOf(\" am-dropdown-menu \")&&(a=e)}\"none\"==a.style.display?(a.style.display=\"\",google.log(\"hpam\",\"&ved=\"+c.getAttribute(\"data-ved\"))):a.style.display=\"none\"};}).call(this);(function(){var b=[];google.jsc={xx:b,x:function(a){b.push(a)},mm:[],m:function(a){google.jsc.mm.length||(google.jsc.mm=a)}};}).call(this);</script></head><body class=\"hsrp\" bgcolor=\"#ffffff\" marginheight=\"0\" marginwidth=\"0\" topmargin=\"0\"><div id=gbar><nobr><b class=gb1>Search</b> <a class=gb1 href=\"https://www.google.co.in/search?hl=en&tbm=isch&source=og&tab=wi\">Images</a> <a class=gb1 href=\"https://maps.google.co.in/maps?hl=en&tab=wl\">Maps</a> <a class=gb1 href=\"https://play.google.com/?hl=en&tab=w8\">Play</a> <a class=gb1 href=\"https://www.youtube.com/results?gl=IN&tab=w1\">YouTube</a> <a class=gb1 href=\"https://news.google.co.in/nwshp?hl=en&tab=wn\">News</a> <a class=gb1 href=\"https://mail.google.com/mail/?tab=wm\">Gmail</a> <a class=gb1 href=\"https://drive.google.com/?tab=wo\">Drive</a> <a class=gb1 style=\"text-decoration:none\" href=\"https://www.google.co.in/intl/en/about/products?tab=wh\"><u>More</u> &raquo;</a></nobr></div><div id=guser width=100%><nobr><span id=gbn class=gbi></span><span id=gbf class=gbf></span><span id=gbe></span><a href=\"http://www.google.co.in/history/optout?hl=en\" class=gb4>Web History</a> | <a  href=\"/preferences?hl=en\" class=gb4>Settings</a> | <a target=_top id=gb_70 href=\"https://accounts.google.com/ServiceLogin?hl=en&passive=true&continue=https://www.google.com/search%3Fq%3DNIFTY\" class=gb4>Sign in</a></nobr></div><div class=gbh style=left:0></div><div class=gbh style=right:0></div><table id=\"mn\" border=\"0\" cellpadding=\"0\" cellspacing=\"0\" style=\"position:relative\"><tr><th width=\"132\"></th><th width=\"573\"></th><th width=\"278\"></th><th></th></tr><tr><td class=\"sfbgg\" valign=\"top\"><div id=\"logocont\"><h1><a href=\"/webhp?hl=en-IN\" style=\"background-image:url(/images/nav_logo229.png);background-repeat:no-repeat;height:37px;width:95px;display:block;background-position:0 -41px\" id=\"logo\" title=\"Go to Google Home\"></a></h1></div></td><td class=\"sfbgg\" colspan=\"2\" valign=\"top\" style=\"padding-left:0px\"><form style=\"display:block;margin:0;background:none\" action=\"/search\" id=\"tsf\" method=\"GET\" name=\"gs\"><table border=\"0\" cellpadding=\"0\" cellspacing=\"0\" style=\"margin-top:20px;position:relative\"><tr><td><div class=\"lst-a\"><table cellpadding=\"0\" cellspacing=\"0\"><tr><td class=\"lst-td\" width=\"555\" valign=\"bottom\"><div style=\"position:relative;zoom:1\"><input class=\"lst\" value=\"NIFTY\" title=\"Search\" autocomplete=\"off\" id=\"sbhost\" maxlength=\"2048\" name=\"q\" type=\"text\"></div></td></tr></table></div></td><td><div class=\"ds\"><div class=\"lsbb\"><button class=\"lsb\" value=\"Search\" name=\"btnG\" type=\"submit\"><span class=\"sbico\" style=\"background-image:url(/images/nav_logo229.png);background-repeat:no-repeat;height:14px;width:13px;display:block;background-position:-36px -111px\"></span></button></div></div></td></tr></table></form></td><td class=\"sfbgg\">&nbsp;</td></tr><tr style=\"position:relative\"><td><div style=\"border-bottom:1px solid #ebebeb;height:59px\"></div></td><td colspan=\"2\"><div class=\"tn\"><div class=\"qrSWbe tnuiC sFTC8c pqkqJe\">All</div><div class=\"sFTC8c\"><a class=\"qrSWbe KDZjCd\" href=\"/search?q=NIFTY&amp;ie=UTF-8&amp;prmd=ivnsz&amp;source=lnms&amp;tbm=isch&amp;sa=X&amp;ved=0ahUKEwjJytrQvZ_iAhVbk3AKHXHaBjEQ_AUIBQ\">Images</a></div><div class=\"sFTC8c\"><a class=\"qrSWbe KDZjCd\" href=\"/search?q=NIFTY&amp;ie=UTF-8&amp;prmd=ivnsz&amp;source=lnms&amp;tbm=vid&amp;sa=X&amp;ved=0ahUKEwjJytrQvZ_iAhVbk3AKHXHaBjEQ_AUIBg\">Videos</a></div><div class=\"sFTC8c\"><a class=\"qrSWbe KDZjCd\" href=\"/search?q=NIFTY&amp;ie=UTF-8&amp;prmd=ivnsz&amp;source=lnms&amp;tbm=nws&amp;sa=X&amp;ved=0ahUKEwjJytrQvZ_iAhVbk3AKHXHaBjEQ_AUIBw\">News</a></div><div class=\"sFTC8c\"><a class=\"qrSWbe KDZjCd\" href=\"/search?q=NIFTY&amp;ie=UTF-8&amp;prmd=ivnsz&amp;source=lnms&amp;tbm=shop&amp;sa=X&amp;ved=0ahUKEwjJytrQvZ_iAhVbk3AKHXHaBjEQ_AUICA\">Shopping</a></div><div class=\"sFTC8c\"><a class=\"qrSWbe KDZjCd\" href=\"https://maps.google.com/maps?q=NIFTY&amp;um=1&amp;ie=UTF-8&amp;sa=X&amp;ved=0ahUKEwjJytrQvZ_iAhVbk3AKHXHaBjEQ_AUICQ\">Maps</a></div><div class=\"sFTC8c\"><a class=\"qrSWbe KDZjCd\" href=\"/search?q=NIFTY&amp;ie=UTF-8&amp;prmd=ivnsz&amp;source=lnms&amp;tbm=bks&amp;sa=X&amp;ved=0ahUKEwjJytrQvZ_iAhVbk3AKHXHaBjEQ_AUICg\">Books</a></div></div><div style=\"border-bottom:1px solid #ebebeb;height:59px\"></div></td><td><div style=\"border-bottom:1px solid #ebebeb;height:59px\"></div></td></tr><tbody id=\"desktop-search\"><style>.pCA4Bd,.pCA4Bd a:link,.pCA4Bd a:visited,a.pCA4Bd:link,a.pCA4Bd:visited{color:#808080}.AzrInc{color:#61C}.ellip{overflow:hidden;text-overflow:ellipsis;white-space:nowrap}.VBt9Dc{border:1px solid #e0e0e0;font-size:13px;margin-right:-2px;}.V7Q8V{margin:4px 10px}.AwJT2c{background:white;border-bottom:0;border-left:0;border-right:0;border-top:1px solid #e0e0e0;cursor:pointer;height:40px;outline:0;width:100%}.dxrUgb{color:#777;font-size:11px}.dxrUgb a{color:#777;text-decoration:none}.xpdclpsbtn{}.xpdxpndbtn{}.xpdclpsbtn .KMK5T{background:url(/images/nav_logo229.png) no-repeat -50px -79px;height:22px;width:64px}.xpdxpndbtn .KMK5T{background:url(/images/nav_logo229.png) no-repeat -50px -102px;height:22px;width:64px}.mraOPb{color:#222;font-size:15px;line-height:normal;margin:12px 0}.dXAUyb{margin:4px 0}.R8KuR{margin:10px;overflow:hidden;position:relative;white-space:nowrap;}.M1e9Oe{display:-moz-inline-stack;display:inline-block;position:relative;width:100%;z-index:0;}.OSMzvb{display:-moz-inline-stack;display:inline-block;max-width:100%;overflow:hidden;}.JKXCdf{position:absolute;right:0;z-index:1;}.FSP1Dd{border-top:1px solid #e0e0e0;color:#000;font-size:22px;margin-top:-5px;padding-top:10px}.CB9G1b{color:#000;font-size:14px}.F7uZG{color:#777;margin:4px 0;overflow:hidden}.Rlw09{margin-bottom:20px}.cC4Myd{color:#212121}.A1t5ne{color:#777}.cC4Myd{font-weight:bold}.xKoZHf{margin-left:10px}.B27ELd.ty7XEe{margin-right:10px}.x32fhf{color:#222;font-size:18px;margin:20px 0 8px 0}.lHETUb{color:#222;font-size:18px;margin:20px 10px 8px 10px}.B27ELd{display:-moz-inline-stack;display:inline-block;margin-bottom:10px;margin-right:21px;text-align:left;vertical-align:top;}.tQOFN{overflow:hidden}.czonVc{color:#777;overflow:hidden;text-overflow:ellipsis;white-space:normal;word-wrap:break-word}.brYqc{margin:6px 0 0 8px;overflow:hidden;text-overflow:ellipsis;white-space:normal;word-wrap:break-word}</style><tr><td id=\"leftnav\" valign=\"top\"><div><h2 class=\"hd\">Search Options</h2><ul class=\"med\" id=\"tbd\"><li><ul class=\"tbt\"><li class=\"tbos\" id=\"qdr_\">Any time</li><li class=\"tbou\" id=\"qdr_h\"><a class=\"q\" href=\"/search?q=NIFTY&amp;ie=UTF-8&amp;prmd=ivnsz&amp;source=lnt&amp;tbs=qdr:h&amp;sa=X&amp;ved=0ahUKEwjJytrQvZ_iAhVbk3AKHXHaBjEQpwUIDw\">Past hour</a></li><li class=\"tbou\" id=\"qdr_d\"><a class=\"q\" href=\"/search?q=NIFTY&amp;ie=UTF-8&amp;prmd=ivnsz&amp;source=lnt&amp;tbs=qdr:d&amp;sa=X&amp;ved=0ahUKEwjJytrQvZ_iAhVbk3AKHXHaBjEQpwUIDw\">Past 24 hours</a></li><li class=\"tbou\" id=\"qdr_w\"><a class=\"q\" href=\"/search?q=NIFTY&amp;ie=UTF-8&amp;prmd=ivnsz&amp;source=lnt&amp;tbs=qdr:w&amp;sa=X&amp;ved=0ahUKEwjJytrQvZ_iAhVbk3AKHXHaBjEQpwUIDw\">Past week</a></li><li class=\"tbou\" id=\"qdr_m\"><a class=\"q\" href=\"/search?q=NIFTY&amp;ie=UTF-8&amp;prmd=ivnsz&amp;source=lnt&amp;tbs=qdr:m&amp;sa=X&amp;ved=0ahUKEwjJytrQvZ_iAhVbk3AKHXHaBjEQpwUIDw\">Past month</a></li><li class=\"tbou\" id=\"qdr_y\"><a class=\"q\" href=\"/search?q=NIFTY&amp;ie=UTF-8&amp;prmd=ivnsz&amp;source=lnt&amp;tbs=qdr:y&amp;sa=X&amp;ved=0ahUKEwjJytrQvZ_iAhVbk3AKHXHaBjEQpwUIDw\">Past year</a></li></ul></li><li><ul class=\"tbt\"><li class=\"tbos\" id=\"li_\">All results</li><li class=\"tbou\" id=\"li_1\"><a class=\"q\" href=\"/search?q=NIFTY&amp;ie=UTF-8&amp;prmd=ivnsz&amp;source=lnt&amp;tbs=li:1&amp;sa=X&amp;ved=0ahUKEwjJytrQvZ_iAhVbk3AKHXHaBjEQpwUIDw\">Verbatim</a></li></ul></li></ul></div></td><td valign=\"top\"><div id=\"center_col\"><div class=\"sd\" id=\"resultStats\">About 12,50,00,000 results</div><div id=\"res\"><div id=\"topstuff\"></div><div id=\"search\"><div id=\"ires\"><ol><div class=\"g\"><div class=\"e\"><div><h3 class=\"r\"><a class=\"fl\" href=\"http://www.google.com/finance?q=NSE:NIFTY&amp;sa=X&amp;ved=0ahUKEwjJytrQvZ_iAhVbk3AKHXHaBjEQowEIFDAA\"><b>NIFTY</b></a><span> - NIFTY 50 (NSE)</span></h3></div><div style=\"margin-top:5px\"><a href=\"http://www.google.com/finance?q=NSE:NIFTY&amp;sa=X&amp;ved=0ahUKEwjJytrQvZ_iAhVbk3AKHXHaBjEQ2AEIFTAA\"><img style=\"float:left;padding-right:20px\" src=\"/finance/chart?q=NSE:NIFTY&amp;tkr=1&amp;tlf=12\" alt=\"chart\" height=\"116\" width=\"212\"></a><table border=\"0\" width=\"1%\" style=\"display:inline-table;margin-top:-5px;padding-bottom:0\"><tr><td colspan=\"3\"><span style=\"font-size:157%\"><b>11,178.60</b>&nbsp;<cite style=\"color:#008000\"><b>+21.60</b> (0.19%)</cite></span><br><span class=\"f\">16 May, 12:32 pm IST</span> - <a class=\"fl\" href=\"/intl/en_in/googlefinance/disclaimer/?sa=X&amp;ved=0ahUKEwjJytrQvZ_iAhVbk3AKHXHaBjEQ1AEIFjAA\">Disclaimer</a><br><span style=\"display:none\"><b></b>&nbsp;<cite style=\"color:#008000\"><b>+</b> () </cite>&nbsp;</span></td></tr><tr><td><table border=\"0\" cellpadding=\"2\" cellspacing=\"0\"><tr><td nowrap=\"true\" style=\"padding-left:0\"><b>Open:</b>&nbsp;</td><td align=\"right\" nowrap=\"true\">11,180.35</td></tr><tr><td nowrap=\"true\" style=\"padding-left:0\"><b>High:</b>&nbsp;</td><td align=\"right\" nowrap=\"true\">11,192.20</td></tr><tr><td nowrap=\"true\" style=\"padding-left:0\"><b>Low:</b>&nbsp;</td><td align=\"right\" nowrap=\"true\">11,143.35</td></tr></table></td><td width=\"20\">&nbsp;</td><td><table border=\"0\" cellpadding=\"2\" cellspacing=\"0\"><tr><td nowrap=\"true\" style=\"padding-left:0\"><b>Volume:</b>&nbsp;</td><td align=\"right\" nowrap=\"true\">0</td></tr></table></td></tr></table><br style=\"clear:both\"></div><div class=\"A8ul6\" style=\"padding-bottom:3px\"><a href=\"/url?q=http://www.google.com/finance%3Fq%3DNSE:NIFTY&amp;sa=U&amp;ved=0ahUKEwjJytrQvZ_iAhVbk3AKHXHaBjEQ1wEIFygAMAA&amp;usg=AOvVaw35iOxnPjoNRSvIwl53p-RU\">Google Finance</a> - <a href=\"/url?q=http://www.moneycontrol.com/stocks/cptmarket/compsearchnew.php%3Fsearch_str%3DXC0006013996&amp;sa=U&amp;ved=0ahUKEwjJytrQvZ_iAhVbk3AKHXHaBjEQ1wEIGCgBMAA&amp;usg=AOvVaw1Ers8MuZ-GU-wqbuF0NZSV\">Moneycontrol</a> - <a href=\"/url?q=http://in.finance.yahoo.com/q%3Fs%3D%255ENIFTY&amp;sa=U&amp;ved=0ahUKEwjJytrQvZ_iAhVbk3AKHXHaBjEQ1wEIGSgCMAA&amp;usg=AOvVaw0ouRckbUQ1ldNkr5y8zHzK\">Yahoo Finance</a> - <a href=\"/url?q=http://money.rediff.com/quotes/all/NIFTY&amp;sa=U&amp;ved=0ahUKEwjJytrQvZ_iAhVbk3AKHXHaBjEQ1wEIGigDMAA&amp;usg=AOvVaw1HE4rB29Fu2PBCazU9vxxH\">Rediff Moneywiz</a></div></div></div><div class=\"g\"><h3 class=\"r\"><a href=\"/url?q=https://www.nseindia.com/live_market/dynaContent/live_watch/equities_stock_watch.htm&amp;sa=U&amp;ved=0ahUKEwjJytrQvZ_iAhVbk3AKHXHaBjEQFggcMAE&amp;usg=AOvVaw2WPC9WdVXmzLbXYKq1Ak5n\">Equity Stock - NSE - National Stock Exchange of India Ltd.</a></h3><div class=\"s\"><div class=\"hJND5c\" style=\"margin-bottom:2px\"><cite>https://www.nseindia.com/live_market/.../equities_stock_watch.htm</cite><div class=\"Pj9hGd\"><div style=\"display:inline\" onclick=\"google.sham(this);\" aria-expanded=\"false\" aria-haspopup=\"true\" tabindex=\"0\" data-ved=\"0ahUKEwjJytrQvZ_iAhVbk3AKHXHaBjEQ7B0IHTAB\"><span class=\"CiacGf\"></span></div><div style=\"display:none\" class=\"am-dropdown-menu\" role=\"menu\" tabindex=\"-1\"><ul><li class=\"mUpfKd\"><a class=\"imx0m\" href=\"/url?q=http://webcache.googleusercontent.com/search%3Fq%3Dcache:Q2oE9l6KP6YJ:https://www.nseindia.com/live_market/dynaContent/live_watch/equities_stock_watch.htm%252BNIFTY%26hl%3Den%26ct%3Dclnk&amp;sa=U&amp;ved=0ahUKEwjJytrQvZ_iAhVbk3AKHXHaBjEQIAgfMAE&amp;usg=AOvVaw22riviUiKqb-ZOUX1tLEfD\">Cached</a></li><li class=\"mUpfKd\"><a class=\"imx0m\" href=\"/search?ie=UTF-8&amp;q=related:https://www.nseindia.com/live_market/dynaContent/live_watch/equities_stock_watch.htm+NIFTY&amp;tbo=1&amp;sa=X&amp;ved=0ahUKEwjJytrQvZ_iAhVbk3AKHXHaBjEQHwggMAE\">Similar</a></li></ul></div></div></div><span class=\"st\">52w H, 52w L, Past 365 Days, 365 d % chng, Past 30 Days, 30 d % chng. <b>NIFTY</b> <br>\n",
      "50, 11,722.60, 11,770.90, 11,699.35, 11,712.25, -12.50, -0.11, 3,055.24305.52&nbsp;...</span><br><div class=\"osl\"><a href=\"/url?q=https://www.nseindia.com/live_market/dynaContent/live_watch/equities_stock_watch.htm%3Fcat%3DE&amp;sa=U&amp;ved=0ahUKEwjJytrQvZ_iAhVbk3AKHXHaBjEQ0gIIIigAMAE&amp;usg=AOvVaw2qpW67jZpSLxfzgmm_KVpZ\">Nifty 50</a> - <a href=\"/url?q=https://www.nseindia.com/live_market/dynaContent/live_watch/equities_stock_watch.htm%3Fcat%3DCA&amp;sa=U&amp;ved=0ahUKEwjJytrQvZ_iAhVbk3AKHXHaBjEQ0gIIIygBMAE&amp;usg=AOvVaw1yyrYsFs_96fJWTNkDXvzN\">Nifty</a> - <a href=\"/url?q=https://nseindia.com/live_market/dynaContent/live_watch/equities_stock_watch.htm%3Fcat%3DCP&amp;sa=U&amp;ved=0ahUKEwjJytrQvZ_iAhVbk3AKHXHaBjEQ0gIIJCgCMAE&amp;usg=AOvVaw0E1QK7qHg1RcaemaUyLox6\">Nifty Pharma</a> - <a href=\"/url?q=https://nseindia.com/live_market/dynaContent/live_watch/equities_stock_watch.htm%3Fcat%3DCR&amp;sa=U&amp;ved=0ahUKEwjJytrQvZ_iAhVbk3AKHXHaBjEQ0gIIJSgDMAE&amp;usg=AOvVaw1FaqPoDckKOUt38Brx_9FC\">Nifty Realty</a></div></div></div><div class=\"g\"><h3 class=\"r\"><a href=\"/url?q=https://www.nseindia.com/live_market/dynaContent/live_watch/live_index_watch.htm&amp;sa=U&amp;ved=0ahUKEwjJytrQvZ_iAhVbk3AKHXHaBjEQFggnMAI&amp;usg=AOvVaw0hLUo2kcPreRbi-cqeih5i\">Live Indices Watch - NSE - National Stock Exchange of India Ltd.</a></h3><div class=\"s\"><div class=\"hJND5c\" style=\"margin-bottom:2px\"><cite>https://www.nseindia.com/live_market/.../live_index_watch.htm</cite><div class=\"Pj9hGd\"><div style=\"display:inline\" onclick=\"google.sham(this);\" aria-expanded=\"false\" aria-haspopup=\"true\" tabindex=\"0\" data-ved=\"0ahUKEwjJytrQvZ_iAhVbk3AKHXHaBjEQ7B0IKDAC\"><span class=\"CiacGf\"></span></div><div style=\"display:none\" class=\"am-dropdown-menu\" role=\"menu\" tabindex=\"-1\"><ul><li class=\"mUpfKd\"><a class=\"imx0m\" href=\"/url?q=http://webcache.googleusercontent.com/search%3Fq%3Dcache:HyDZraeiRmsJ:https://www.nseindia.com/live_market/dynaContent/live_watch/live_index_watch.htm%252BNIFTY%26hl%3Den%26ct%3Dclnk&amp;sa=U&amp;ved=0ahUKEwjJytrQvZ_iAhVbk3AKHXHaBjEQIAgqMAI&amp;usg=AOvVaw0V06TsU4SxBVHVxu1CJ8xP\">Cached</a></li><li class=\"mUpfKd\"><a class=\"imx0m\" href=\"/search?ie=UTF-8&amp;q=related:https://www.nseindia.com/live_market/dynaContent/live_watch/live_index_watch.htm+NIFTY&amp;tbo=1&amp;sa=X&amp;ved=0ahUKEwjJytrQvZ_iAhVbk3AKHXHaBjEQHwgrMAI\">Similar</a></li></ul></div></div></div><span class=\"st\">9 May 2019 <b>...</b> Index, Current, % Change, Open, High, Low, Prev. Close, Today, 52w High, 52w <br>\n",
      "Low. Broad Market Indices : <b>NIFTY</b> 50, 11,301.80, -0.51&nbsp;...</span><br></div></div><div class=\"g\"><h3 class=\"r\"><a href=\"/url?q=https://economictimes.indiatimes.com/indices/nifty_50_companies&amp;sa=U&amp;ved=0ahUKEwjJytrQvZ_iAhVbk3AKHXHaBjEQFgguMAM&amp;usg=AOvVaw1j4J92HBabh0lf1hC4SWwS\"><b>Nifty</b> 50 Live | NSE <b>Nifty</b> 50 Index Today - S&amp;P CNX <b>Nifty</b> - The ...</a></h3><div class=\"s\"><div class=\"hJND5c\" style=\"margin-bottom:2px\"><cite>https://economictimes.indiatimes.com/indices/<b>nifty</b>_50_companies</cite><div class=\"Pj9hGd\"><div style=\"display:inline\" onclick=\"google.sham(this);\" aria-expanded=\"false\" aria-haspopup=\"true\" tabindex=\"0\" data-ved=\"0ahUKEwjJytrQvZ_iAhVbk3AKHXHaBjEQ7B0ILzAD\"><span class=\"CiacGf\"></span></div><div style=\"display:none\" class=\"am-dropdown-menu\" role=\"menu\" tabindex=\"-1\"><ul><li class=\"mUpfKd\"><a class=\"imx0m\" href=\"/url?q=http://webcache.googleusercontent.com/search%3Fq%3Dcache:J2hm0WqQWOwJ:https://economictimes.indiatimes.com/indices/nifty_50_companies%252BNIFTY%26hl%3Den%26ct%3Dclnk&amp;sa=U&amp;ved=0ahUKEwjJytrQvZ_iAhVbk3AKHXHaBjEQIAgxMAM&amp;usg=AOvVaw3v8_nYf7py6BrlFUZ-F6zk\">Cached</a></li></ul></div></div></div><span class=\"st\">Share market update: <b>Nifty</b> Financial Services index up; Bajaj Finance climbs 4%<br>\n",
      " ... The <b>Nifty</b> is the flagship benchmark of the National Stock Exchange (NSE), which is a well-diversified index, comprising top 50 companies in terms of free-float market capitalisation that are traded on ...</span><br></div></div><div class=\"g\"><h3 class=\"r\"><a href=\"/url?q=https://www.moneycontrol.com/nifty/nse/nifty-live&amp;sa=U&amp;ved=0ahUKEwjJytrQvZ_iAhVbk3AKHXHaBjEQFggzMAQ&amp;usg=AOvVaw1waxN4e29e02GOGIVUzSNH\">Indian Stock/Share Market: Sensex, <b>Nifty</b>, Stock/Share Prices, Share ...</a></h3><div class=\"s\"><div class=\"hJND5c\" style=\"margin-bottom:2px\"><cite>https://www.moneycontrol.com/<b>nifty</b>/nse/<b>nifty</b>-live</cite><div class=\"Pj9hGd\"><div style=\"display:inline\" onclick=\"google.sham(this);\" aria-expanded=\"false\" aria-haspopup=\"true\" tabindex=\"0\" data-ved=\"0ahUKEwjJytrQvZ_iAhVbk3AKHXHaBjEQ7B0INDAE\"><span class=\"CiacGf\"></span></div><div style=\"display:none\" class=\"am-dropdown-menu\" role=\"menu\" tabindex=\"-1\"><ul><li class=\"mUpfKd\"><a class=\"imx0m\" href=\"/url?q=http://webcache.googleusercontent.com/search%3Fq%3Dcache:JKq1mBZPiRgJ:https://www.moneycontrol.com/nifty/nse/nifty-live%252BNIFTY%26hl%3Den%26ct%3Dclnk&amp;sa=U&amp;ved=0ahUKEwjJytrQvZ_iAhVbk3AKHXHaBjEQIAg2MAQ&amp;usg=AOvVaw14bRtYC8Xs2pAOxpvvGrmk\">Cached</a></li></ul></div></div></div><span class=\"st\">It s the official site for CNBC TV18, and provides news, Share Market Live, views, <br>\n",
      "and analysis on equity / stock markets, sensex, <b>nifty</b>, commodities, personal&nbsp;...</span><br></div></div><div class=\"g\"><h3 class=\"r\"><a href=\"/url?q=http://www.moneycontrol.com/indian-indices/nifty-50-9.html&amp;sa=U&amp;ved=0ahUKEwjJytrQvZ_iAhVbk3AKHXHaBjEQFgg4MAU&amp;usg=AOvVaw1-M7QOwIH4i5mG7dIt_AfM\"><b>Nifty</b> 50 - Moneycontrol</a></h3><div class=\"s\"><div class=\"hJND5c\" style=\"margin-bottom:2px\"><cite>www.moneycontrol.com/indian-indices/<b>nifty</b>-50-9.html</cite><div class=\"Pj9hGd\"><div style=\"display:inline\" onclick=\"google.sham(this);\" aria-expanded=\"false\" aria-haspopup=\"true\" tabindex=\"0\" data-ved=\"0ahUKEwjJytrQvZ_iAhVbk3AKHXHaBjEQ7B0IOTAF\"><span class=\"CiacGf\"></span></div><div style=\"display:none\" class=\"am-dropdown-menu\" role=\"menu\" tabindex=\"-1\"><ul><li class=\"mUpfKd\"><a class=\"imx0m\" href=\"/url?q=http://webcache.googleusercontent.com/search%3Fq%3Dcache:jj_UmzByUmgJ:http://www.moneycontrol.com/indian-indices/nifty-50-9.html%252BNIFTY%26hl%3Den%26ct%3Dclnk&amp;sa=U&amp;ved=0ahUKEwjJytrQvZ_iAhVbk3AKHXHaBjEQIAg7MAU&amp;usg=AOvVaw1QjIGzrJjpT5N0lVWU-7Iz\">Cached</a></li><li class=\"mUpfKd\"><a class=\"imx0m\" href=\"/search?ie=UTF-8&amp;q=related:www.moneycontrol.com/indian-indices/nifty-50-9.html+NIFTY&amp;tbo=1&amp;sa=X&amp;ved=0ahUKEwjJytrQvZ_iAhVbk3AKHXHaBjEQHwg8MAU\">Similar</a></li></ul></div></div></div><span class=\"st\">The <b>NIFTY</b> 50 is the flagship index on the National Stock Exchange of India Ltd. (<br>\n",
      "NSE). The Index tracks the behavior of a portfolio of blue chip companies, the&nbsp;...</span><br></div></div><div class=\"g\"><h3 class=\"r\"><a href=\"/url?q=https://www.moneycontrol.com/news/business/markets/market-live-sensex-nifty-trade-flat-with-positive-bias-lupin-falls-5-on-usfda-observations-3979681.html&amp;sa=U&amp;ved=0ahUKEwjJytrQvZ_iAhVbk3AKHXHaBjEQFgg-MAY&amp;usg=AOvVaw2I4T6jfc2s9_epgM_tG3eV\">Market Live: Sensex, <b>Nifty</b> trade flat with positive bias; Lupin falls 5 ...</a></h3><div class=\"s\"><div class=\"hJND5c\" style=\"margin-bottom:2px\"><cite>https://www.moneycontrol.com/.../market-live-sensex-<b>nifty</b>-trade-flat-with- positive-bias-lupin-falls-5-on-usfda-observations-3979681.html</cite><div class=\"Pj9hGd\"><div style=\"display:inline\" onclick=\"google.sham(this);\" aria-expanded=\"false\" aria-haspopup=\"true\" tabindex=\"0\" data-ved=\"0ahUKEwjJytrQvZ_iAhVbk3AKHXHaBjEQ7B0IPzAG\"><span class=\"CiacGf\"></span></div><div style=\"display:none\" class=\"am-dropdown-menu\" role=\"menu\" tabindex=\"-1\"><ul><li class=\"mUpfKd\"><a class=\"imx0m\" href=\"/url?q=http://webcache.googleusercontent.com/search%3Fq%3Dcache:k887CWO3JA0J:https://www.moneycontrol.com/news/business/markets/market-live-sensex-nifty-trade-flat-with-positive-bias-lupin-falls-5-on-usfda-observations-3979681.html%252BNIFTY%26hl%3Den%26ct%3Dclnk&amp;sa=U&amp;ved=0ahUKEwjJytrQvZ_iAhVbk3AKHXHaBjEQIAhBMAY&amp;usg=AOvVaw1cZ3Bsn_AnMlEsy7fAoFFN\">Cached</a></li></ul></div></div></div><span class=\"st\">1 hour ago <b>...</b> Except energy and IT, all other sectoral indices are trading in red led by pharma, <br>\n",
      "auto, metal, FMCG and infra.</span><br></div></div><div class=\"g\"><h3 class=\"r\"><a href=\"/url?q=https://en.wikipedia.org/wiki/NIFTY_50&amp;sa=U&amp;ved=0ahUKEwjJytrQvZ_iAhVbk3AKHXHaBjEQFghEMAc&amp;usg=AOvVaw2xi3mUKJkx6ftZTDfnbSQN\"><b>NIFTY</b> 50 - Wikipedia</a></h3><div class=\"s\"><div class=\"hJND5c\" style=\"margin-bottom:2px\"><cite>https://en.wikipedia.org/wiki/<b>NIFTY</b>_50</cite><div class=\"Pj9hGd\"><div style=\"display:inline\" onclick=\"google.sham(this);\" aria-expanded=\"false\" aria-haspopup=\"true\" tabindex=\"0\" data-ved=\"0ahUKEwjJytrQvZ_iAhVbk3AKHXHaBjEQ7B0IRTAH\"><span class=\"CiacGf\"></span></div><div style=\"display:none\" class=\"am-dropdown-menu\" role=\"menu\" tabindex=\"-1\"><ul><li class=\"mUpfKd\"><a class=\"imx0m\" href=\"/url?q=http://webcache.googleusercontent.com/search%3Fq%3Dcache:pHXPiuIIfn4J:https://en.wikipedia.org/wiki/NIFTY_50%252BNIFTY%26hl%3Den%26ct%3Dclnk&amp;sa=U&amp;ved=0ahUKEwjJytrQvZ_iAhVbk3AKHXHaBjEQIAhHMAc&amp;usg=AOvVaw0HaYDvc-FF4dHSq831Kz5C\">Cached</a></li><li class=\"mUpfKd\"><a class=\"imx0m\" href=\"/search?ie=UTF-8&amp;q=related:https://en.wikipedia.org/wiki/NIFTY_50+NIFTY&amp;tbo=1&amp;sa=X&amp;ved=0ahUKEwjJytrQvZ_iAhVbk3AKHXHaBjEQHwhIMAc\">Similar</a></li></ul></div></div></div><span class=\"st\">The <b>NIFTY 50</b> index is National Stock Exchange of India&#39;s benchmark broad based stock market index for the Indian equity market. Full form of <b>NIFTY</b> is National Stock Exchange Fifty .</span><br></div></div><div class=\"g\"><h3 class=\"r\"><a href=\"/url?q=https://www.niftyindices.com/indices/equity/broad-based-indices/NIFTY-50&amp;sa=U&amp;ved=0ahUKEwjJytrQvZ_iAhVbk3AKHXHaBjEQFghKMAg&amp;usg=AOvVaw1hBFVQj38IT4eOGXoW2lKW\"><b>NIFTY</b> 50</a></h3><div class=\"s\"><div class=\"hJND5c\" style=\"margin-bottom:2px\"><cite>https://www.<b>nifty</b>indices.com/indices/equity/broad.../<b>NIFTY</b>-50</cite><div class=\"Pj9hGd\"><div style=\"display:inline\" onclick=\"google.sham(this);\" aria-expanded=\"false\" aria-haspopup=\"true\" tabindex=\"0\" data-ved=\"0ahUKEwjJytrQvZ_iAhVbk3AKHXHaBjEQ7B0ISzAI\"><span class=\"CiacGf\"></span></div><div style=\"display:none\" class=\"am-dropdown-menu\" role=\"menu\" tabindex=\"-1\"><ul><li class=\"mUpfKd\"><a class=\"imx0m\" href=\"/url?q=http://webcache.googleusercontent.com/search%3Fq%3Dcache:SABJ_n_EFfYJ:https://www.niftyindices.com/indices/equity/broad-based-indices/NIFTY-50%252BNIFTY%26hl%3Den%26ct%3Dclnk&amp;sa=U&amp;ved=0ahUKEwjJytrQvZ_iAhVbk3AKHXHaBjEQIAhNMAg&amp;usg=AOvVaw2z0Crdo2ynHcI7J7RJlE0p\">Cached</a></li></ul></div></div></div><span class=\"st\">The <b>NIFTY</b> 50 is a well diversified 50 stock index and it represent important <br>\n",
      "sectors of the economy. The base period selected for <b>NIFTY</b> 50 index is the close <br>\n",
      "of&nbsp;...</span><br></div></div><div class=\"g\"><h3 class=\"r\"><a href=\"/url?q=https://www.5paisa.com/nifty&amp;sa=U&amp;ved=0ahUKEwjJytrQvZ_iAhVbk3AKHXHaBjEQFghPMAk&amp;usg=AOvVaw1-Axupjfqmjq3oWZr1b3jN\"><b>Nifty</b> Share Price | <b>Nifty</b> 50 | 5paisa</a></h3><div class=\"s\"><div class=\"hJND5c\" style=\"margin-bottom:2px\"><cite>https://www.5paisa.com/<b>nifty</b></cite><div class=\"Pj9hGd\"><div style=\"display:inline\" onclick=\"google.sham(this);\" aria-expanded=\"false\" aria-haspopup=\"true\" tabindex=\"0\" data-ved=\"0ahUKEwjJytrQvZ_iAhVbk3AKHXHaBjEQ7B0IUDAJ\"><span class=\"CiacGf\"></span></div><div style=\"display:none\" class=\"am-dropdown-menu\" role=\"menu\" tabindex=\"-1\"><ul><li class=\"mUpfKd\"><a class=\"imx0m\" href=\"/url?q=http://webcache.googleusercontent.com/search%3Fq%3Dcache:-uLrpEmPU58J:https://www.5paisa.com/nifty%252BNIFTY%26hl%3Den%26ct%3Dclnk&amp;sa=U&amp;ved=0ahUKEwjJytrQvZ_iAhVbk3AKHXHaBjEQIAhSMAk&amp;usg=AOvVaw1vbWR7g7HL85Khjy2qMQzW\">Cached</a></li></ul></div></div></div><span class=\"st\">Get NSE <b>nifty</b> share price &amp; other <b>nifty</b> 50 live updates on 5paisa.com and also <br>\n",
      "stay updated with all top NSE companies stock prices.</span><br></div></div><div class=\"g\"><h3 class=\"r\"><a href=\"/url?q=https://in.tradingview.com/symbols/NSE-NIFTY/&amp;sa=U&amp;ved=0ahUKEwjJytrQvZ_iAhVbk3AKHXHaBjEQFghUMAo&amp;usg=AOvVaw24O09ndTXwYNY7-IpifNnj\"><b>NIFTY</b> Index Charts and Quotes &#8212; TradingView &#8212; India</a></h3><div class=\"s\"><div class=\"hJND5c\" style=\"margin-bottom:2px\"><cite>https://in.tradingview.com/symbols/NSE-<b>NIFTY</b>/</cite><div class=\"Pj9hGd\"><div style=\"display:inline\" onclick=\"google.sham(this);\" aria-expanded=\"false\" aria-haspopup=\"true\" tabindex=\"0\" data-ved=\"0ahUKEwjJytrQvZ_iAhVbk3AKHXHaBjEQ7B0IVTAK\"><span class=\"CiacGf\"></span></div><div style=\"display:none\" class=\"am-dropdown-menu\" role=\"menu\" tabindex=\"-1\"><ul><li class=\"mUpfKd\"><a class=\"imx0m\" href=\"/url?q=http://webcache.googleusercontent.com/search%3Fq%3Dcache:sQ0EhS1WXaQJ:https://in.tradingview.com/symbols/NSE-NIFTY/%252BNIFTY%26hl%3Den%26ct%3Dclnk&amp;sa=U&amp;ved=0ahUKEwjJytrQvZ_iAhVbk3AKHXHaBjEQIAhXMAo&amp;usg=AOvVaw1kHLjcnp2mrvXvdnnGgI_L\">Cached</a></li></ul></div></div></div><span class=\"st\">9 Apr 2019 <b>...</b> TradingView India. View live <b>Nifty</b> 50 Index chart to track latest price changes. <br>\n",
      "NSE:<b>NIFTY</b> trade ideas, forecasts and market news are at your&nbsp;...</span><br></div></div></ol></div></div></div><div style=\"clear:both;margin-bottom:17px;overflow:hidden\"><div style=\"font-size:16px;padding:0 8px 1px\">Searches related to <b>NIFTY</b></div><table border=\"0\" cellpadding=\"0\" cellspacing=\"0\"><tr><td valign=\"top\"><p class=\"aw5cc\" style=\"margin:3px 8px\"><a href=\"/search?ie=UTF-8&amp;q=nifty+50+companies&amp;sa=X&amp;ved=0ahUKEwjJytrQvZ_iAhVbk3AKHXHaBjEQ1QIIWygA\">nifty <b>50 companies</b></a></p></td><td valign=\"top\" style=\"padding-left:10px\"><p class=\"aw5cc\" style=\"margin:3px 8px\"><a href=\"/search?ie=UTF-8&amp;q=nifty+option+chain&amp;sa=X&amp;ved=0ahUKEwjJytrQvZ_iAhVbk3AKHXHaBjEQ1QIIXCgB\">nifty <b>option chain</b></a></p></td></tr><tr><td valign=\"top\"><p class=\"aw5cc\" style=\"margin:3px 8px\"><a href=\"/search?ie=UTF-8&amp;q=nifty+bank&amp;sa=X&amp;ved=0ahUKEwjJytrQvZ_iAhVbk3AKHXHaBjEQ1QIIXSgC\">nifty <b>bank</b></a></p></td><td valign=\"top\" style=\"padding-left:10px\"><p class=\"aw5cc\" style=\"margin:3px 8px\"><a href=\"/search?ie=UTF-8&amp;q=sgx+nifty&amp;sa=X&amp;ved=0ahUKEwjJytrQvZ_iAhVbk3AKHXHaBjEQ1QIIXigD\"><b>sgx</b> nifty</a></p></td></tr><tr><td valign=\"top\"><p class=\"aw5cc\" style=\"margin:3px 8px\"><a href=\"/search?ie=UTF-8&amp;q=nifty+future&amp;sa=X&amp;ved=0ahUKEwjJytrQvZ_iAhVbk3AKHXHaBjEQ1QIIXygE\">nifty <b>future</b></a></p></td><td valign=\"top\" style=\"padding-left:10px\"><p class=\"aw5cc\" style=\"margin:3px 8px\"><a href=\"/search?ie=UTF-8&amp;q=nifty+midcap+100&amp;sa=X&amp;ved=0ahUKEwjJytrQvZ_iAhVbk3AKHXHaBjEQ1QIIYCgF\">nifty <b>midcap 100</b></a></p></td></tr><tr><td valign=\"top\"><p class=\"aw5cc\" style=\"margin:3px 8px\"><a href=\"/search?ie=UTF-8&amp;q=nifty+50+companies+list+2018&amp;sa=X&amp;ved=0ahUKEwjJytrQvZ_iAhVbk3AKHXHaBjEQ1QIIYSgG\">nifty <b>50 companies list 2018</b></a></p></td><td valign=\"top\" style=\"padding-left:10px\"><p class=\"aw5cc\" style=\"margin:3px 8px\"><a href=\"/search?ie=UTF-8&amp;q=nifty+next+50&amp;sa=X&amp;ved=0ahUKEwjJytrQvZ_iAhVbk3AKHXHaBjEQ1QIIYigH\">nifty <b>next 50</b></a></p></td></tr></table></div></div><div id=\"foot\"><table align=\"center\" border=\"0\" cellpadding=\"0\" cellspacing=\"0\" id=\"nav\"><tr valign=\"top\"><td align=\"left\" class=\"b\"><span class=\"csb\" style=\"background-position:-24px 0;width:28px\"></span><b></b></td><td><span class=\"csb\" style=\"background-position:-53px 0;width:20px\"></span><b>1</b></td><td><a class=\"fl\" href=\"/search?q=NIFTY&amp;ie=UTF-8&amp;prmd=ivnsz&amp;ei=EAvdXMmCJ9umwgPxtJuIAw&amp;start=10&amp;sa=N\"><span class=\"csb\" style=\"background-position:-74px 0;width:20px\"></span>2</a></td><td><a class=\"fl\" href=\"/search?q=NIFTY&amp;ie=UTF-8&amp;prmd=ivnsz&amp;ei=EAvdXMmCJ9umwgPxtJuIAw&amp;start=20&amp;sa=N\"><span class=\"csb\" style=\"background-position:-74px 0;width:20px\"></span>3</a></td><td><a class=\"fl\" href=\"/search?q=NIFTY&amp;ie=UTF-8&amp;prmd=ivnsz&amp;ei=EAvdXMmCJ9umwgPxtJuIAw&amp;start=30&amp;sa=N\"><span class=\"csb\" style=\"background-position:-74px 0;width:20px\"></span>4</a></td><td><a class=\"fl\" href=\"/search?q=NIFTY&amp;ie=UTF-8&amp;prmd=ivnsz&amp;ei=EAvdXMmCJ9umwgPxtJuIAw&amp;start=40&amp;sa=N\"><span class=\"csb\" style=\"background-position:-74px 0;width:20px\"></span>5</a></td><td><a class=\"fl\" href=\"/search?q=NIFTY&amp;ie=UTF-8&amp;prmd=ivnsz&amp;ei=EAvdXMmCJ9umwgPxtJuIAw&amp;start=50&amp;sa=N\"><span class=\"csb\" style=\"background-position:-74px 0;width:20px\"></span>6</a></td><td><a class=\"fl\" href=\"/search?q=NIFTY&amp;ie=UTF-8&amp;prmd=ivnsz&amp;ei=EAvdXMmCJ9umwgPxtJuIAw&amp;start=60&amp;sa=N\"><span class=\"csb\" style=\"background-position:-74px 0;width:20px\"></span>7</a></td><td><a class=\"fl\" href=\"/search?q=NIFTY&amp;ie=UTF-8&amp;prmd=ivnsz&amp;ei=EAvdXMmCJ9umwgPxtJuIAw&amp;start=70&amp;sa=N\"><span class=\"csb\" style=\"background-position:-74px 0;width:20px\"></span>8</a></td><td><a class=\"fl\" href=\"/search?q=NIFTY&amp;ie=UTF-8&amp;prmd=ivnsz&amp;ei=EAvdXMmCJ9umwgPxtJuIAw&amp;start=80&amp;sa=N\"><span class=\"csb\" style=\"background-position:-74px 0;width:20px\"></span>9</a></td><td><a class=\"fl\" href=\"/search?q=NIFTY&amp;ie=UTF-8&amp;prmd=ivnsz&amp;ei=EAvdXMmCJ9umwgPxtJuIAw&amp;start=90&amp;sa=N\"><span class=\"csb\" style=\"background-position:-74px 0;width:20px\"></span>10</a></td><td class=\"b\" style=\"text-align:left\"><a class=\"fl\" href=\"/search?q=NIFTY&amp;ie=UTF-8&amp;prmd=ivnsz&amp;ei=EAvdXMmCJ9umwgPxtJuIAw&amp;start=10&amp;sa=N\" style=\"text-align:left\"><span class=\"csb\" style=\"background-position:-96px 0;width:71px\"></span><span style=\"display:block;margin-left:53px\">Next</span></a></td></tr></table><p class=\"A8ul6\" id=\"bfl\" style=\"margin:19px 0 0;text-align:center\"><a href=\"/advanced_search?q=NIFTY&amp;ie=UTF-8&amp;prmd=ivnsz\">Advanced search</a><a href=\"/support/websearch/bin/answer.py?answer=134479&amp;hl=en\">Search Help</a> <a href=\"/tools/feedback/survey/html?productId=196&amp;query=NIFTY&amp;hl=en-IN\">Send feedback</a></p><div class=\"A8ul6\" id=\"fll\" style=\"margin:19px auto 19px auto;text-align:center\"><a href=\"/\">Google&nbsp;Home</a> <a href=\"/intl/en/ads\">Advertising&nbsp;Programmes</a> <a href=\"/services\">Business Solutions</a> <a href=\"/intl/en/policies/privacy/\">Privacy</a> <a href=\"/intl/en/policies/terms/\">Terms</a> <a href=\"/intl/en/about.html\">About Google</a></div></div></td><td id=\"rhs_block\" valign=\"top\"><ol><div class=\"g\"><div class=\"VBt9Dc hp-xpdbox\"><div class=\"R8KuR\" style=\"float:right\"><div class=\"OSMzvb\" style=\"height:138px;width:86px\"><a href=\"/url?q=https://economictimes.indiatimes.com/markets/stocks/news/technical-forecast-most-nifty50-stocks-signal-a-bullish-bias-for-2017/articleshow/56324356.cms&amp;sa=U&amp;ved=0ahUKEwjJytrQvZ_iAhVbk3AKHXHaBjEQndQBCGwwCw&amp;usg=AOvVaw0YpQAKHbNVsYPPtHg1LnK_\"><img src=\"https://encrypted-tbn0.gstatic.com/images?q=tbn:ANd9GcSqmcUVUz73HLvYy2atyh9H-wiX2V6mVexkXBkFRaSpHrxufZx7nEYwqDGQ\" style=\"margin-left:0px;margin-right:0px\" title=\"https://economictimes.indiatimes.com/markets/stocks/news/technical-forecast-most-nifty50-stocks-signal-a-bullish-bias-for-2017/articleshow/56324356.cms\" alt=\"Image result for NIFTY\"></a></div></div><div class=\"V7Q8V\"><div><div class=\"FSP1Dd\">NIFTY 50</div><div class=\"F7uZG Rlw09\">Market index</div></div></div><div class=\"V7Q8V\"><div class=\"mraOPb\"><span>The NIFTY 50 index is National Stock Exchange of India's benchmark broad based stock market index for the Indian equity market. Full form of NIFTY is National Stock Exchange Fifty. <a class=\"fl\" href=\"/url?q=https://en.wikipedia.org/wiki/NIFTY_50&amp;sa=U&amp;ved=0ahUKEwjJytrQvZ_iAhVbk3AKHXHaBjEQmhMIcigAMA0&amp;usg=AOvVaw0xoN7DXXi4Oe5aVW3HbcDN\">Wikipedia</a></span></div></div><div class=\"V7Q8V\" style=\"display:none\"></div><div class=\"V7Q8V\"><span class=\"cC4Myd\">Market cap: </span><span class=\"A1t5ne\">US$2.27 trillion (<a class=\"A1t5ne fl\" href=\"/search?ie=UTF-8&amp;q=April+2018&amp;stick=H4sIAAAAAAAAAONgVhLQL9E3sjSON6lMK7TILqssWsTK5VhQlJmjYGRgaAEAW-PrxyEAAAA&amp;sa=X&amp;ved=0ahUKEwjJytrQvZ_iAhVbk3AKHXHaBjEQmxMIdigAMA8\">April 2018</a>)</span></div><div class=\"V7Q8V\"><span class=\"cC4Myd\">Exchanges: </span><span class=\"A1t5ne\"><a class=\"A1t5ne fl\" href=\"/search?ie=UTF-8&amp;q=National+Stock+Exchange+of+India&amp;stick=H4sIAAAAAAAAAONgVuLUz9U3MMrOMChaxKrgl1iSmZ-XmKMQXJKfnK3gWpGckZiXnqqQn6bgmZeSmQgASiW_XjAAAAA&amp;sa=X&amp;ved=0ahUKEwjJytrQvZ_iAhVbk3AKHXHaBjEQmxMIeSgAMBA\">National Stock Exchange of India</a></span></div><div class=\"V7Q8V\"><span class=\"cC4Myd\">Constituents: </span><span class=\"A1t5ne\">50</span></div><div class=\"V7Q8V\"><span class=\"cC4Myd\">Weighting method: </span><span class=\"A1t5ne\">Capitalization-weighted</span></div><div class=\"dXAUyb\"><div class=\"lHETUb\">People also search for</div><div class=\"xKoZHf B27ELd\" style=\"width:72px\"><div class=\"tQOFN\" style=\"height:72px\"><a class=\"FEM55\" href=\"/search?ie=UTF-8&amp;q=BSE+SENSEX&amp;stick=H4sIAAAAAAAAAONgFuLUz9U3MCkxLS5QgjDNsuMLtPic83Nz8_OCM1NSyxMrixexcjkFuyoEu_oFu0YAAFKQxVg1AAAA&amp;sa=X&amp;ved=0ahUKEwjJytrQvZ_iAhVbk3AKHXHaBjEQsQ4IgQEwEw\"><img alt=\"BSE SENSEX\" height=\"72px\" src=\"https://encrypted-tbn2.gstatic.com/images?q=tbn:ANd9GcTbGmRGQVlL22LElwGFTqmqavLBx3DW5-33vhDg5X0aOeJeBlDPf9rDZ5zxA8A0O_y72bM\" title=\"BSE SENSEX\" width=\"72px\"></a></div><div class=\"brYqc\"><a class=\"fl\" href=\"/search?ie=UTF-8&amp;q=BSE+SENSEX&amp;stick=H4sIAAAAAAAAAONgFuLUz9U3MCkxLS5QgjDNsuMLtPic83Nz8_OCM1NSyxMrixexcjkFuyoEu_oFu0YAAFKQxVg1AAAA&amp;sa=X&amp;ved=0ahUKEwjJytrQvZ_iAhVbk3AKHXHaBjEQxA0IggEwEw\" title=\"BSE SENSEX\">BSE SENSEX</a><div class=\"czonVc\" title=\"BSE SENSEX\"></div></div></div><div class=\"B27ELd\" style=\"width:72px\"><div class=\"tQOFN\" style=\"height:72px\"><a class=\"FEM55\" href=\"/search?ie=UTF-8&amp;q=Hang+Seng+Index&amp;stick=H4sIAAAAAAAAAONgFuLUz9U3MCkxLS5QAjMN87IsM7T4nPNzc_PzgjNTUssTK4sXsfJ7JOalKwSnAgnPvJTUCgA9qwYAOgAAAA&amp;sa=X&amp;ved=0ahUKEwjJytrQvZ_iAhVbk3AKHXHaBjEQsQ4IhAEwEw\"><img alt=\"Hang Seng Index\" height=\"72px\" src=\"https://encrypted-tbn0.gstatic.com/images?q=tbn:ANd9GcQJMc50L3qpXFgngDMtQgiwYHET1xdzUV4_W5cwjonPHqNHoJdhiCA7edFOafdfuGtAKzM\" title=\"Hang Seng Index\" width=\"72px\"></a></div><div class=\"brYqc\"><a class=\"fl\" href=\"/search?ie=UTF-8&amp;q=Hang+Seng+Index&amp;stick=H4sIAAAAAAAAAONgFuLUz9U3MCkxLS5QAjMN87IsM7T4nPNzc_PzgjNTUssTK4sXsfJ7JOalKwSnAgnPvJTUCgA9qwYAOgAAAA&amp;sa=X&amp;ved=0ahUKEwjJytrQvZ_iAhVbk3AKHXHaBjEQxA0IhQEwEw\" title=\"Hang Seng Index\">Hang Seng Index</a><div class=\"czonVc\" title=\"Hang Seng Index\"></div></div></div><div class=\"ty7XEe B27ELd\" style=\"width:72px\"><div class=\"tQOFN\" style=\"height:72px\"><a class=\"FEM55\" href=\"/search?ie=UTF-8&amp;q=Dow+Jones+Industrial+Average&amp;stick=H4sIAAAAAAAAAONgFuLUz9U3MCkxLS5Q4gAxkwsry7X4nPNzc_PzgjNTUssTK4sXscq45JcreOXnpRYreOallBaXFGUm5ig4lqUWJaanAgACrhvoRgAAAA&amp;sa=X&amp;ved=0ahUKEwjJytrQvZ_iAhVbk3AKHXHaBjEQsQ4IhwEwEw\"><img alt=\"Dow Jones Industrial Average\" height=\"72px\" src=\"https://encrypted-tbn0.gstatic.com/images?q=tbn:ANd9GcTS8eYrk6RydgdF1lZVT5YMKKoS7PfZv4qTYueqMr4fmNce_h0SKl6O2hhBa-rkbraxjJ8\" title=\"Dow Jones Industrial Average\" width=\"72px\"></a></div><div class=\"brYqc\"><a class=\"fl\" href=\"/search?ie=UTF-8&amp;q=Dow+Jones+Industrial+Average&amp;stick=H4sIAAAAAAAAAONgFuLUz9U3MCkxLS5Q4gAxkwsry7X4nPNzc_PzgjNTUssTK4sXscq45JcreOXnpRYreOallBaXFGUm5ig4lqUWJaanAgACrhvoRgAAAA&amp;sa=X&amp;ved=0ahUKEwjJytrQvZ_iAhVbk3AKHXHaBjEQxA0IiAEwEw\" title=\"Dow Jones Industrial Average\">Dow Jones Industrial Average</a><div class=\"czonVc\" title=\"Dow Jones Industrial Average\"></div></div></div><br><div class=\"xKoZHf B27ELd\" style=\"width:72px\"><div class=\"tQOFN\" style=\"height:72px\"><a class=\"FEM55\" href=\"/search?ie=UTF-8&amp;q=Nikkei+225&amp;stick=H4sIAAAAAAAAAONgFuLUz9U3MCkxLS5Q4gAxkwwtSrT4nPNzc_PzgjNTUssTK4sXsXL5ZWZnp2YqGBmZAgCIMrlJNAAAAA&amp;sa=X&amp;ved=0ahUKEwjJytrQvZ_iAhVbk3AKHXHaBjEQsQ4IigEwEw\"><img alt=\"Nikkei 225\" height=\"72px\" src=\"https://encrypted-tbn3.gstatic.com/images?q=tbn:ANd9GcSmVLaef5ohQk0AoVfYOcg2IC8fm3ypwIpjLU8hyMzPz3rPWpeiD2SEx7-wsCsNSnKNI2Q\" title=\"Nikkei 225\" width=\"72px\"></a></div><div class=\"brYqc\"><a class=\"fl\" href=\"/search?ie=UTF-8&amp;q=Nikkei+225&amp;stick=H4sIAAAAAAAAAONgFuLUz9U3MCkxLS5Q4gAxkwwtSrT4nPNzc_PzgjNTUssTK4sXsXL5ZWZnp2YqGBmZAgCIMrlJNAAAAA&amp;sa=X&amp;ved=0ahUKEwjJytrQvZ_iAhVbk3AKHXHaBjEQxA0IiwEwEw\" title=\"Nikkei 225\">Nikkei 225</a><div class=\"czonVc\" title=\"Nikkei 225\"></div></div></div><div class=\"B27ELd\" style=\"width:72px\"><div class=\"tQOFN\" style=\"height:72px\"><a class=\"FEM55\" href=\"/search?ie=UTF-8&amp;q=FTSE+100+Index&amp;stick=H4sIAAAAAAAAAONgFuLUz9U3MCkxLS5QAjONMnLMyrX4nPNzc_PzgjNTUssTK4sXsfK5hQS7KhgaGCh45qWkVgAAiF6UOTkAAAA&amp;sa=X&amp;ved=0ahUKEwjJytrQvZ_iAhVbk3AKHXHaBjEQsQ4IjQEwEw\"><img alt=\"FTSE 100 Index\" height=\"72px\" src=\"https://encrypted-tbn0.gstatic.com/images?q=tbn:ANd9GcQ4J2wB4bxNsT8oTMHNNaojOHBAWe3IayYM4ZLzUzvXTe0nBiCNIEMEnJjH5_12Kz8T6Kw\" title=\"FTSE 100 Index\" width=\"72px\"></a></div><div class=\"brYqc\"><a class=\"fl\" href=\"/search?ie=UTF-8&amp;q=FTSE+100+Index&amp;stick=H4sIAAAAAAAAAONgFuLUz9U3MCkxLS5QAjONMnLMyrX4nPNzc_PzgjNTUssTK4sXsfK5hQS7KhgaGCh45qWkVgAAiF6UOTkAAAA&amp;sa=X&amp;ved=0ahUKEwjJytrQvZ_iAhVbk3AKHXHaBjEQxA0IjgEwEw\" title=\"FTSE 100 Index\">FTSE 100 Index</a><div class=\"czonVc\" title=\"FTSE 100 Index\"></div></div></div><div class=\"ty7XEe B27ELd\" style=\"width:72px\"><div class=\"tQOFN\" style=\"height:72px\"><a class=\"FEM55\" href=\"/search?ie=UTF-8&amp;q=DAX&amp;stick=H4sIAAAAAAAAAONgFuLUz9U3MCkxLS5Q4gAxLczNq7T4nPNzc_PzgjNTUssTK4sXsTK7OEYAAMFBW3stAAAA&amp;sa=X&amp;ved=0ahUKEwjJytrQvZ_iAhVbk3AKHXHaBjEQsQ4IkAEwEw\"><img alt=\"DAX PERFORMANCE-INDEX\" height=\"72px\" src=\"https://encrypted-tbn0.gstatic.com/images?q=tbn:ANd9GcSDP5d7fIUgB4HxSYU54lj-4kjvWBJLTyzPTSWv7nRNs2rjyo9jJn9bIcu8rr5Q98xtgK4\" title=\"DAX PERFORMANCE-INDEX\" width=\"72px\"></a></div><div class=\"brYqc\"><a class=\"fl\" href=\"/search?ie=UTF-8&amp;q=DAX&amp;stick=H4sIAAAAAAAAAONgFuLUz9U3MCkxLS5Q4gAxLczNq7T4nPNzc_PzgjNTUssTK4sXsTK7OEYAAMFBW3stAAAA&amp;sa=X&amp;ved=0ahUKEwjJytrQvZ_iAhVbk3AKHXHaBjEQxA0IkQEwEw\" title=\"DAX PERFORMANCE-INDEX\">DAX PERFOR...</a><div class=\"czonVc\" title=\"DAX PERFORMANCE-INDEX\"></div></div></div><br></div></div></div></ol></td></tr></tbody></table><script type=\"text/javascript\" nonce=\"/QI2bLfy1mk8rvObhADY7w==\">(function(){var eventid='EAvdXMmCJ9umwgPxtJuIAw';google.kEI = eventid;})();</script><script src=\"/xjs/_/js/k=xjs.hp.en.Xf4Rs-GQlkg.O/m=sb_he,d/rt=j/d=1/rs=ACT90oFc_W84J_1MjuLbRO15dNrU5IiTrg\" nonce=\"/QI2bLfy1mk8rvObhADY7w==\"></script><script type=\"text/javascript\" nonce=\"/QI2bLfy1mk8rvObhADY7w==\">google.ac&&google.ac.c({\"agen\":false,\"cgen\":false,\"client\":\"heirloom-serp\",\"dh\":true,\"dhqt\":true,\"ds\":\"\",\"ffql\":\"en\",\"fl\":true,\"host\":\"google.com\",\"isbh\":28,\"jsonp\":true,\"msgs\":{\"cibl\":\"Clear Search\",\"dym\":\"Did you mean:\",\"lcky\":\"I\\u0026#39;m Feeling Lucky\",\"lml\":\"Learn more\",\"oskt\":\"Input tools\",\"psrc\":\"This search was removed from your \\u003Ca href=\\\"/history\\\"\\u003EWeb History\\u003C/a\\u003E\",\"psrl\":\"Remove\",\"sbit\":\"Search by image\",\"srch\":\"Google Search\"},\"ovr\":{},\"pq\":\"NIFTY\",\"refpd\":true,\"rfs\":[\"nifty 50 companies\",\"nifty bank\",\"nifty future\",\"nifty 50 companies list 2018\",\"nifty option chain\",\"sgx nifty\",\"nifty midcap 100\",\"nifty next 50\"],\"sbpl\":24,\"sbpr\":24,\"scd\":10,\"sce\":5,\"stok\":\"jjnc7iw4OoKDxreSLEY36fhZSc0\",\"uhde\":false})</script><script nonce=\"/QI2bLfy1mk8rvObhADY7w==\">(function(){window.google.cdo={height:0,width:0};(function(){var a=window.innerWidth,b=window.innerHeight;if(!a||!b){var c=window.document,d=\"CSS1Compat\"==c.compatMode?c.documentElement:c.body;a=d.clientWidth;b=d.clientHeight}a&&b&&(a!=google.cdo.width||b!=google.cdo.height)&&google.log(\"\",\"\",\"/client_204?&atyp=i&biw=\"+a+\"&bih=\"+b+\"&ei=\"+google.kEI);}).call(this);})();</script></body></html>\n"
     ]
    }
   ],
   "source": [
    "html = get(\"https://www.google.com/finance?q=NIFTY\")\n",
    "\n",
    "print(html.text)"
   ]
  },
  {
   "cell_type": "code",
   "execution_count": 22,
   "metadata": {},
   "outputs": [],
   "source": [
    "p = requests.get('http://finance.google.com/finance/getprices?q=SBIN&x=NSE&i=61&p=1d&f=d,c,h,l,o,v').text"
   ]
  },
  {
   "cell_type": "code",
   "execution_count": 23,
   "metadata": {},
   "outputs": [
    {
     "name": "stdout",
     "output_type": "stream",
     "text": [
      "<html><head><meta http-equiv=\"content-type\" content=\"text/html; charset=utf-8\"/><title>Sorry...</title><style> body { font-family: verdana, arial, sans-serif; background-color: #fff; color: #000; }</style></head><body><div><table><tr><td><b><font face=sans-serif size=10><font color=#4285f4>G</font><font color=#ea4335>o</font><font color=#fbbc05>o</font><font color=#4285f4>g</font><font color=#34a853>l</font><font color=#ea4335>e</font></font></b></td><td style=\"text-align: left; vertical-align: bottom; padding-bottom: 15px; width: 50%\"><div style=\"border-bottom: 1px solid #dfdfdf;\">Sorry...</div></td></tr></table></div><div style=\"margin-left: 4em;\"><h1>We're sorry...</h1><p>... but your computer or network may be sending automated queries. To protect our users, we can't process your request right now.</p></div><div style=\"margin-left: 4em;\">See <a href=\"https://support.google.com/websearch/answer/86640\">Google Help</a> for more information.<br/><br/></div><div style=\"text-align: center; border-top: 1px solid #dfdfdf;\"><a href=\"https://www.google.com\">Google Home</a></div></body></html>\n"
     ]
    }
   ],
   "source": [
    "print(p)"
   ]
  },
  {
   "cell_type": "code",
   "execution_count": 20,
   "metadata": {},
   "outputs": [
    {
     "data": {
      "text/plain": [
       "'61'"
      ]
     },
     "execution_count": 20,
     "metadata": {},
     "output_type": "execute_result"
    }
   ],
   "source": [
    "interval"
   ]
  },
  {
   "cell_type": "code",
   "execution_count": null,
   "metadata": {},
   "outputs": [],
   "source": []
  }
 ],
 "metadata": {
  "kernelspec": {
   "display_name": "Python 3",
   "language": "python",
   "name": "python3"
  },
  "language_info": {
   "codemirror_mode": {
    "name": "ipython",
    "version": 3
   },
   "file_extension": ".py",
   "mimetype": "text/x-python",
   "name": "python",
   "nbconvert_exporter": "python",
   "pygments_lexer": "ipython3",
   "version": "3.6.7"
  }
 },
 "nbformat": 4,
 "nbformat_minor": 2
}
