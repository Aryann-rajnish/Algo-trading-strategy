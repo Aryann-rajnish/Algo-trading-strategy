{
 "cells": [
  {
   "cell_type": "code",
   "execution_count": 1,
   "metadata": {},
   "outputs": [],
   "source": [
    "import requests, os, pandas as pd\n",
    "from io import StringIO\n",
    "from multiprocessing import Pool\n"
   ]
  },
  {
   "cell_type": "code",
   "execution_count": 2,
   "metadata": {},
   "outputs": [],
   "source": [
    "INTERVAL = '61'"
   ]
  },
  {
   "cell_type": "code",
   "execution_count": 4,
   "metadata": {},
   "outputs": [],
   "source": [
    "stock = 'YESBANK'"
   ]
  },
  {
   "cell_type": "code",
   "execution_count": 5,
   "metadata": {},
   "outputs": [],
   "source": [
    "if not os.path.isfile(stock+'.csv'):\n",
    "    stockfile = open(stock+'.csv','w')\n",
    "    stockfile.write('Date,Time,Open,High,Low,Close,Volume\\n')\n",
    "    stockfile.close()"
   ]
  },
  {
   "cell_type": "code",
   "execution_count": 7,
   "metadata": {},
   "outputs": [],
   "source": [
    "def puller(stock, no_of_days, interval, write_to_file = True):\n",
    "  \n",
    "    no_of_days = str(no_of_days)\n",
    "    interval = str(Interval)\n",
    "    \n",
    "    p = requests.get('http://finance.google.com/finance/getprices?q='+stock+'&x=NSE&i='+interval+'&p='+no_of_days+'d&f=d,c,h,l,o,v').text\n",
    "    a = pd.read_csv(StringIO(p), skiprows=range(7), names = ['date', 'Close', 'High', 'Low', 'Open', 'Volume'])\n",
    "    \n",
    "    if write_to_file:\n",
    "        a['Date'] = pd.to_datetime(a.date.str[1:],unit='s').dt.tz_localize('UTC').dt.tz_convert('Asia/Kolkata').dt.strftime('%Y%m%d')\n",
    "        a['Time'] = pd.to_datetime(a.date.str[1:],unit='s').dt.tz_localize('UTC').dt.tz_convert('Asia/Kolkata').dt.strftime('%H%M%S')\n",
    "    \n",
    "        a=a[['Date','Time','Open','High','Low','Close','Volume']]\n",
    "        a.to_csv(stock+'.csv', mode='a', header=False,index=False)\n",
    "        print(stock)\n",
    "    else:\n",
    "        a['date']=pd.to_datetime(a.date.str[1:],unit='s').dt.tz_localize('UTC').dt.tz_convert('Asia/Kolkata')\n",
    "        a['Date']=a.date.dt.date\n",
    "        a['Time']=a.date.dt.time\n",
    "        a=a[['Date','Time','Open','High','Low','Close','Volume']]\n",
    "        return a"
   ]
  },
  {
   "cell_type": "code",
   "execution_count": 8,
   "metadata": {},
   "outputs": [],
   "source": [
    "if __name__ == '__main__':\n",
    "  NO_OF_DAYS = 10\n",
    "  pool = Pool(processes = 10)\n",
    "  pool.apply_async(func=puller, args=(stock, NO_OF_DAYS, INTERVAL))"
   ]
  },
  {
   "cell_type": "code",
   "execution_count": null,
   "metadata": {},
   "outputs": [],
   "source": []
  }
 ],
 "metadata": {
  "kernelspec": {
   "display_name": "Python 3",
   "language": "python",
   "name": "python3"
  },
  "language_info": {
   "codemirror_mode": {
    "name": "ipython",
    "version": 3
   },
   "file_extension": ".py",
   "mimetype": "text/x-python",
   "name": "python",
   "nbconvert_exporter": "python",
   "pygments_lexer": "ipython3",
   "version": "3.6.7"
  }
 },
 "nbformat": 4,
 "nbformat_minor": 2
}
